{
 "cells": [
  {
   "cell_type": "code",
   "execution_count": 23,
   "id": "ea66bcc8-649e-4cd8-9c01-9821a66b6473",
   "metadata": {},
   "outputs": [
    {
     "data": {
      "text/plain": [
       "edit_mask!"
      ]
     },
     "execution_count": 23,
     "metadata": {},
     "output_type": "execute_result"
    }
   ],
   "source": [
    "using Glob\n",
    "using Dates\n",
    "using DIVAnd\n",
    "using NCDatasets\n",
    "using GeoDatasets\n",
    "using CairoMakie, GeoMakie\n",
    "using JupyterFormatter\n",
    "enable_autoformat()\n",
    "include(\"./config.jl\")"
   ]
  },
  {
   "cell_type": "code",
   "execution_count": 15,
   "id": "a76b816f-03bb-4d7b-95d5-fe442a81337b",
   "metadata": {},
   "outputs": [],
   "source": [
    "topodir = \"/home/ctroupin/data/GEBCO/\"\n",
    "topofile = joinpath(topodir, \"gebco_30sec_16.nc\")\n",
    "bx, by, b = DIVAnd.extract_bath(topofile, true, lonr, latr)\n",
    "b[b.<0.0] .= NaN;\n",
    "\n",
    "lon_landsea, lat_landsea, landsea = GeoDatasets.landseamask(; resolution = 'i', grid = 5)\n",
    "landsea[landsea.==2] .= 1;"
   ]
  },
  {
   "cell_type": "code",
   "execution_count": 34,
   "id": "dbac7b8f",
   "metadata": {},
   "outputs": [],
   "source": [
    "xi, yi, mask = load_mask(topofile, true, lonr, latr, 0.0);\n",
    "coordinatelist = read_polygon_json(\"./mask.json\");\n",
    "edit_mask!(xi, yi, mask, coordinatelist)"
   ]
  },
  {
   "cell_type": "code",
   "execution_count": 46,
   "id": "680ca59e-77c8-4f25-90e9-37c5e6c38636",
   "metadata": {},
   "outputs": [
    {
     "ename": "LoadError",
     "evalue": "SystemError: opening file \"/home/ctroupin/Projects/EMODnet/EMODnet-Chemistry-GriddedMaps/figures/paper/gebco_bathy_mask.png\": No such file or directory",
     "output_type": "error",
     "traceback": [
      "SystemError: opening file \"/home/ctroupin/Projects/EMODnet/EMODnet-Chemistry-GriddedMaps/figures/paper/gebco_bathy_mask.png\": No such file or directory",
      "",
      "Stacktrace:",
      "  [1] systemerror(p::String, errno::Int32; extrainfo::Nothing)",
      "    @ Base ./error.jl:176",
      "  [2] systemerror",
      "    @ ./error.jl:175 [inlined]",
      "  [3] open(fname::String; lock::Bool, read::Nothing, write::Nothing, create::Nothing, truncate::Bool, append::Nothing)",
      "    @ Base ./iostream.jl:295",
      "  [4] open",
      "    @ ./iostream.jl:277 [inlined]",
      "  [5] open(fname::String, mode::String; lock::Bool)",
      "    @ Base ./iostream.jl:358",
      "  [6] open(fname::String, mode::String)",
      "    @ Base ./iostream.jl:357",
      "  [7] open(::Makie.var\"#1366#1367\"{Module, Bool, @Kwargs{}, Figure, MIME{Symbol(\"image/png\")}, Scene}, ::String, ::Vararg{String}; kwargs::@Kwargs{})",
      "    @ Base ./io.jl:408",
      "  [8] open",
      "    @ ./io.jl:407 [inlined]",
      "  [9] save(file::FileIO.File{FileIO.DataFormat{:PNG}, String}, fig::Figure; size::Tuple{Int64, Int64}, resolution::Nothing, backend::Module, update::Bool, screen_config::@Kwargs{})",
      "    @ Makie ~/.julia/packages/Makie/Y3ABD/src/display.jl:344",
      " [10] save(file::FileIO.File{FileIO.DataFormat{:PNG}, String}, fig::Figure)",
      "    @ Makie ~/.julia/packages/Makie/Y3ABD/src/display.jl:307",
      " [11] save(filename::String, fig::Figure; args::@Kwargs{})",
      "    @ Makie ~/.julia/packages/Makie/Y3ABD/src/display.jl:304",
      " [12] save(filename::String, fig::Figure)",
      "    @ Makie ~/.julia/packages/Makie/Y3ABD/src/display.jl:301",
      " [13] top-level scope",
      "    @ In[46]:19"
     ]
    }
   ],
   "source": [
    "fig = Figure(size = (600, 600))\n",
    "ga =\n",
    "    GeoAxis(fig[1, 1], title = \"GEBCO bathymetry\", dest = \"+proj=ortho +lon_0=15 +lat_0=35\")\n",
    "heatmap!(\n",
    "    ga,\n",
    "    lon_landsea,\n",
    "    lat_landsea,\n",
    "    landsea,\n",
    "    colormap = Reverse(:greys),\n",
    "    colorrange = [0, 2],\n",
    ")\n",
    "hm = heatmap!(ga, bx, by, b, colormap = :deep, colorrange = (0, 5000.0))\n",
    "masklayer = contourf!(xi, yi, mask, levels = [0.0, 0.0001], colormap = Reverse(:binary))\n",
    "\n",
    "xlims!(ga, -180, 180.0)\n",
    "ylims!(ga, -90.0, 90.0)\n",
    "hidedecorations!(ga)\n",
    "Colorbar(fig[1, 2], hm, label = \"m\", labelrotation = 0)\n",
    "save(joinpath(figdir, \"gebco_bathy_mask.png\"), fig)\n",
    "fig"
   ]
  },
  {
   "cell_type": "code",
   "execution_count": null,
   "id": "e5deff9f",
   "metadata": {},
   "outputs": [],
   "source": []
  }
 ],
 "metadata": {
  "kernelspec": {
   "display_name": "Julia 1.11.3",
   "language": "julia",
   "name": "julia-1.11"
  },
  "language_info": {
   "file_extension": ".jl",
   "mimetype": "application/julia",
   "name": "julia",
   "version": "1.11.3"
  },
  "toc": {
   "base_numbering": 1,
   "nav_menu": {},
   "number_sections": true,
   "sideBar": true,
   "skip_h1_title": false,
   "title_cell": "Table of Contents",
   "title_sidebar": "Contents",
   "toc_cell": false,
   "toc_position": {},
   "toc_section_display": true,
   "toc_window_display": false
  }
 },
 "nbformat": 4,
 "nbformat_minor": 5
}
