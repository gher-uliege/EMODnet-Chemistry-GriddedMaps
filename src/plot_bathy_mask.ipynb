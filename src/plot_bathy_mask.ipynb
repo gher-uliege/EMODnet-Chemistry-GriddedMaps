{
 "cells": [
  {
   "cell_type": "markdown",
   "id": "2f2e7d43-f395-41fe-933b-463f9b656bdf",
   "metadata": {},
   "source": [
    "# Plot GEBCO bathymetry and mask for the All European Seas domain"
   ]
  },
  {
   "cell_type": "code",
   "execution_count": 42,
   "id": "ea66bcc8-649e-4cd8-9c01-9821a66b6473",
   "metadata": {},
   "outputs": [
    {
     "data": {
      "text/plain": [
       "draw_domain"
      ]
     },
     "execution_count": 42,
     "metadata": {},
     "output_type": "execute_result"
    }
   ],
   "source": [
    "using DIVAnd\n",
    "using ColorSchemes\n",
    "using NCDatasets\n",
    "using GeoDatasets\n",
    "using CairoMakie, GeoMakie\n",
    "using GeometryOps, GeoInterface\n",
    "using JupyterFormatter\n",
    "enable_autoformat()\n",
    "include(\"./config.jl\")"
   ]
  },
  {
   "cell_type": "markdown",
   "id": "d05aff5d-37ef-43c0-95f0-220bd9f1be39",
   "metadata": {},
   "source": [
    "## Load bathymetry "
   ]
  },
  {
   "cell_type": "code",
   "execution_count": 4,
   "id": "a76b816f-03bb-4d7b-95d5-fe442a81337b",
   "metadata": {},
   "outputs": [],
   "source": [
    "topodir = \"/home/ctroupin/data/GEBCO/\"\n",
    "topofile = joinpath(topodir, \"gebco_30sec_16.nc\")\n",
    "bx, by, b = DIVAnd.extract_bath(topofile, true, lonr, latr)\n",
    "b[b.<0.0] .= NaN;\n",
    "\n",
    "lon_landsea, lat_landsea, landsea = GeoDatasets.landseamask(; resolution = 'i', grid = 5)\n",
    "landsea[landsea.==2] .= 1;"
   ]
  },
  {
   "cell_type": "markdown",
   "id": "c4b478fd-1330-4c47-a2b4-3598806cbe8c",
   "metadata": {},
   "source": [
    "### Create and edit mask"
   ]
  },
  {
   "cell_type": "code",
   "execution_count": 5,
   "id": "dbac7b8f",
   "metadata": {},
   "outputs": [],
   "source": [
    "xi, yi, mask = load_mask(topofile, true, lonr, latr, 0.0);\n",
    "coordinatelist = read_polygon_json(\"./mask.json\");\n",
    "edit_mask!(xi, yi, mask, coordinatelist)"
   ]
  },
  {
   "cell_type": "markdown",
   "id": "1aa670fc-ecfd-403c-acc7-1bfe289e663b",
   "metadata": {},
   "source": [
    "## Make the plot"
   ]
  },
  {
   "cell_type": "code",
   "execution_count": 47,
   "id": "680ca59e-77c8-4f25-90e9-37c5e6c38636",
   "metadata": {},
   "outputs": [
    {
     "data": {
      "text/plain": [
       "CairoMakie.Screen{IMAGE}\n"
      ]
     },
     "execution_count": 47,
     "metadata": {},
     "output_type": "execute_result"
    }
   ],
   "source": [
    "cmap = cgrad(:deep)\n",
    "\n",
    "fig = Figure(size = (800, 800))\n",
    "ga = GeoAxis(\n",
    "    fig[1, 1],\n",
    "    title = \"GEBCO bathymetry and land-sea mask\\nfor the All European Seas domain\",\n",
    "    dest = \"+proj=ortho +lon_0=15 +lat_0=35\",\n",
    ")\n",
    "\n",
    "heatmap!(\n",
    "    ga,\n",
    "    lon_landsea,\n",
    "    lat_landsea,\n",
    "    landsea,\n",
    "    colormap = Reverse(:greys),\n",
    "    colorrange = [0, 2],\n",
    ")\n",
    "hm = heatmap!(\n",
    "    ga,\n",
    "    bx,\n",
    "    by,\n",
    "    b,\n",
    "    colormap = cmap,\n",
    "    colorrange = (0, 6000.0),\n",
    "    highclip = cmap.colors[end],\n",
    ")\n",
    "Colorbar(fig[1, 2], hm, label = \"m\", labelrotation = 0)\n",
    "\n",
    "masklayer = contourf!(xi, yi, mask, levels = [0.0, 0.0001], colormap = Reverse(:binary))\n",
    "\n",
    "# Add regional domains\n",
    "for (regionnames, regioncoords) in domains\n",
    "    draw_domain(ga, regioncoords, domaincolors[regionnames], regionnames, (:dash, :dense))\n",
    "end\n",
    "\n",
    "# Add coastal domains\n",
    "for (regionnames, regioncoords) in domainrivers\n",
    "    draw_domain(ga, regioncoords, domainriverscolors[regionnames], regionnames)\n",
    "end\n",
    "\n",
    "axislegend(ga, position = :lb, framevisible = true)\n",
    "\n",
    "xlims!(ga, -180, 180.0)\n",
    "ylims!(ga, -90.0, 90.0)\n",
    "hidedecorations!(ga)\n",
    "save(joinpath(figdir, \"gebco_bathy_mask_domains3.png\"), fig)\n",
    "# fig"
   ]
  },
  {
   "cell_type": "code",
   "execution_count": null,
   "id": "fa0de90c-62f0-4b23-8807-092c9f4a6071",
   "metadata": {},
   "outputs": [],
   "source": []
  }
 ],
 "metadata": {
  "kernelspec": {
   "display_name": "Julia 1.11.3",
   "language": "julia",
   "name": "julia-1.11"
  },
  "language_info": {
   "file_extension": ".jl",
   "mimetype": "application/julia",
   "name": "julia",
   "version": "1.11.3"
  },
  "toc": {
   "base_numbering": 1,
   "nav_menu": {},
   "number_sections": true,
   "sideBar": true,
   "skip_h1_title": false,
   "title_cell": "Table of Contents",
   "title_sidebar": "Contents",
   "toc_cell": false,
   "toc_position": {},
   "toc_section_display": true,
   "toc_window_display": false
  }
 },
 "nbformat": 4,
 "nbformat_minor": 5
}
