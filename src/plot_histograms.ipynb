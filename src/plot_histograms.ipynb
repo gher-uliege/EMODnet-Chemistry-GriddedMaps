{
 "cells": [
  {
   "cell_type": "code",
   "execution_count": 171,
   "id": "181d7923-b050-4eb0-be60-59f77b9ce590",
   "metadata": {},
   "outputs": [],
   "source": [
    "using Glob\n",
    "using Dates\n",
    "using DIVAnd\n",
    "using NCDatasets\n",
    "using GeoDatasets\n",
    "using CairoMakie, GeoMakie\n",
    "using JupyterFormatter\n",
    "enable_autoformat()\n",
    "include(\"./config.jl\")\n",
    "monthlist = [Dates.monthname(mm) for mm = 1:12];"
   ]
  },
  {
   "cell_type": "code",
   "execution_count": 173,
   "id": "0eaa02b0-c7c1-4d28-bce4-cca6a71459dc",
   "metadata": {},
   "outputs": [
    {
     "name": "stderr",
     "output_type": "stream",
     "text": [
      "\u001b[36m\u001b[1m[ \u001b[22m\u001b[39m\u001b[36m\u001b[1mInfo: \u001b[22m\u001b[39m(1960, 2023)\n",
      "\u001b[36m\u001b[1m[ \u001b[22m\u001b[39m\u001b[36m\u001b[1mInfo: \u001b[22m\u001b[39m(1963, 2024)\n",
      "\u001b[36m\u001b[1m[ \u001b[22m\u001b[39m\u001b[36m\u001b[1mInfo: \u001b[22m\u001b[39m(1960, 2023)\n",
      "\u001b[36m\u001b[1m[ \u001b[22m\u001b[39m\u001b[36m\u001b[1mInfo: \u001b[22m\u001b[39m(1950, 2023)\n",
      "\u001b[36m\u001b[1m[ \u001b[22m\u001b[39m\u001b[36m\u001b[1mInfo: \u001b[22m\u001b[39m(1928, 2023)\n",
      "\u001b[36m\u001b[1m[ \u001b[22m\u001b[39m\u001b[36m\u001b[1mInfo: \u001b[22m\u001b[39m(1902, 2024)\n"
     ]
    }
   ],
   "source": [
    "for varname in varlist\n",
    "    varname_ = replace(varname, \"_\" => \" \")\n",
    "    datafilelist = sort(Glob.glob(\"*$(varname)*.nc\", datadir))\n",
    "\n",
    "    obsyears = Int64[]\n",
    "    obsmonths = Int64[]\n",
    "\n",
    "    for (iii, datafile) in enumerate(datafilelist)\n",
    "        @debug(\"Reading data from $(basename(datafile))\")\n",
    "        obsvalue, obslon, obslat, obsdepth, obstime, obsids =\n",
    "            loadobs(Float64, datafile, varname)\n",
    "        append!(obsyears, Dates.year.(obstime))\n",
    "        append!(obsmonths, Dates.month.(obstime))\n",
    "    end\n",
    "\n",
    "    @info(extrema(obsyears))\n",
    "    yearmin = minimum(obsyears)\n",
    "    yearmax = maximum(obsyears)\n",
    "    nobs_month = [length(findall(obsmonths .== mm)) for mm = 1:12]\n",
    "    nobs_year = [length(findall(obsyears .== yyyy)) for yyyy = yearmin:yearmax]\n",
    "\n",
    "    # Make figure\n",
    "    fig1 = make_histogram(yearmin, yearmax, nobs_year, nobs_month, varname_)\n",
    "    save(joinpath(figdir, \"histogram_$varname.png\"), fig1)\n",
    "end"
   ]
  },
  {
   "cell_type": "markdown",
   "id": "eec82248-5e53-48ef-8209-7bd789d3f030",
   "metadata": {},
   "source": [
    "## Make figure"
   ]
  },
  {
   "cell_type": "code",
   "execution_count": 164,
   "id": "caa231ed-2c79-414c-a5dc-f0a262caf07a",
   "metadata": {},
   "outputs": [
    {
     "data": {
      "text/plain": [
       "make_histogram (generic function with 1 method)"
      ]
     },
     "execution_count": 164,
     "metadata": {},
     "output_type": "execute_result"
    }
   ],
   "source": []
  },
  {
   "cell_type": "code",
   "execution_count": null,
   "id": "14f6036f-7cb7-4a68-b4f4-72149eca409a",
   "metadata": {},
   "outputs": [],
   "source": []
  }
 ],
 "metadata": {
  "kernelspec": {
   "display_name": "Julia 1.11.3",
   "language": "julia",
   "name": "julia-1.11"
  },
  "language_info": {
   "file_extension": ".jl",
   "mimetype": "application/julia",
   "name": "julia",
   "version": "1.11.3"
  }
 },
 "nbformat": 4,
 "nbformat_minor": 5
}
