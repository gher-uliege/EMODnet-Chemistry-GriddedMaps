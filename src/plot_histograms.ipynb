{
 "cells": [
  {
   "cell_type": "code",
   "execution_count": 1,
   "id": "181d7923-b050-4eb0-be60-59f77b9ce590",
   "metadata": {},
   "outputs": [],
   "source": [
    "using Glob\n",
    "using Dates\n",
    "using DIVAnd\n",
    "using NCDatasets\n",
    "using GeoDatasets\n",
    "using CairoMakie, GeoMakie\n",
    "using JupyterFormatter\n",
    "enable_autoformat()\n",
    "include(\"./config.jl\")\n",
    "monthlist = [Dates.monthname(mm) for mm = 1:12];"
   ]
  },
  {
   "cell_type": "markdown",
   "id": "4cccc3ea-de85-458e-b833-8d291f92b0e6",
   "metadata": {},
   "source": [
    "## All regions together"
   ]
  },
  {
   "cell_type": "code",
   "execution_count": 173,
   "id": "0eaa02b0-c7c1-4d28-bce4-cca6a71459dc",
   "metadata": {},
   "outputs": [
    {
     "name": "stderr",
     "output_type": "stream",
     "text": [
      "\u001b[36m\u001b[1m[ \u001b[22m\u001b[39m\u001b[36m\u001b[1mInfo: \u001b[22m\u001b[39m(1960, 2023)\n",
      "\u001b[36m\u001b[1m[ \u001b[22m\u001b[39m\u001b[36m\u001b[1mInfo: \u001b[22m\u001b[39m(1963, 2024)\n",
      "\u001b[36m\u001b[1m[ \u001b[22m\u001b[39m\u001b[36m\u001b[1mInfo: \u001b[22m\u001b[39m(1960, 2023)\n",
      "\u001b[36m\u001b[1m[ \u001b[22m\u001b[39m\u001b[36m\u001b[1mInfo: \u001b[22m\u001b[39m(1950, 2023)\n",
      "\u001b[36m\u001b[1m[ \u001b[22m\u001b[39m\u001b[36m\u001b[1mInfo: \u001b[22m\u001b[39m(1928, 2023)\n",
      "\u001b[36m\u001b[1m[ \u001b[22m\u001b[39m\u001b[36m\u001b[1mInfo: \u001b[22m\u001b[39m(1902, 2024)\n"
     ]
    }
   ],
   "source": [
    "for varname in varlist\n",
    "    varname_ = replace(varname, \"_\" => \" \")\n",
    "    datafilelist = sort(Glob.glob(\"*$(varname)*.nc\", datadir))\n",
    "\n",
    "    obsyears = Int64[]\n",
    "    obsmonths = Int64[]\n",
    "\n",
    "    for (iii, datafile) in enumerate(datafilelist)\n",
    "        @debug(\"Reading data from $(basename(datafile))\")\n",
    "        obsvalue, obslon, obslat, obsdepth, obstime, obsids =\n",
    "            loadobs(Float64, datafile, varname)\n",
    "        append!(obsyears, Dates.year.(obstime))\n",
    "        append!(obsmonths, Dates.month.(obstime))\n",
    "    end\n",
    "\n",
    "    @info(extrema(obsyears))\n",
    "    yearmin = minimum(obsyears)\n",
    "    yearmax = maximum(obsyears)\n",
    "    nobs_month = [length(findall(obsmonths .== mm)) for mm = 1:12]\n",
    "    nobs_year = [length(findall(obsyears .== yyyy)) for yyyy = yearmin:yearmax]\n",
    "\n",
    "    # Make figure\n",
    "    fig1 = make_histogram(yearmin, yearmax, nobs_year, nobs_month, varname_)\n",
    "    save(joinpath(figdir, \"histogram_$varname.png\"), fig1)\n",
    "end"
   ]
  },
  {
   "cell_type": "markdown",
   "id": "eec82248-5e53-48ef-8209-7bd789d3f030",
   "metadata": {},
   "source": [
    "## One color by region"
   ]
  },
  {
   "cell_type": "code",
   "execution_count": 63,
   "id": "caa231ed-2c79-414c-a5dc-f0a262caf07a",
   "metadata": {},
   "outputs": [
    {
     "name": "stderr",
     "output_type": "stream",
     "text": [
      "\u001b[36m\u001b[1m[ \u001b[22m\u001b[39m\u001b[36m\u001b[1mInfo: \u001b[22m\u001b[39mWorking on variable Water_body_ammonium\n",
      "\u001b[36m\u001b[1m[ \u001b[22m\u001b[39m\u001b[36m\u001b[1mInfo: \u001b[22m\u001b[39mWorking on variable Water_body_chlorophyll-a\n",
      "\u001b[36m\u001b[1m[ \u001b[22m\u001b[39m\u001b[36m\u001b[1mInfo: \u001b[22m\u001b[39mWorking on variable Water_body_dissolved_inorganic_nitrogen\n",
      "\u001b[36m\u001b[1m[ \u001b[22m\u001b[39m\u001b[36m\u001b[1mInfo: \u001b[22m\u001b[39mWorking on variable Water_body_silicate\n",
      "\u001b[36m\u001b[1m[ \u001b[22m\u001b[39m\u001b[36m\u001b[1mInfo: \u001b[22m\u001b[39mWorking on variable Water_body_phosphate\n",
      "\u001b[36m\u001b[1m[ \u001b[22m\u001b[39m\u001b[36m\u001b[1mInfo: \u001b[22m\u001b[39mWorking on variable Water_body_dissolved_oxygen_concentration\n"
     ]
    }
   ],
   "source": [
    "yearmin = 1960\n",
    "yearmax = 2024\n",
    "\n",
    "for varname in varlist\n",
    "    @info(\"Working on variable $(varname)\")\n",
    "    varname_ = replace(varname, \"_\" => \" \")\n",
    "    datafilelist = sort(Glob.glob(\"*$(varname)*.nc\", datadir))\n",
    "\n",
    "    nyears_region = zeros(length(datafilelist), yearmax - yearmin + 1)\n",
    "    nmonths_region = zeros(length(datafilelist), 12)\n",
    "\n",
    "    for (iii, datafile) in enumerate(datafilelist)\n",
    "        @debug(\"Reading data from $(basename(datafile))\")\n",
    "        obsvalue, obslon, obslat, obsdepth, obstime, obsids =\n",
    "            loadobs(Float64, datafile, varname)\n",
    "\n",
    "        obsmonths = Dates.month.(obstime)\n",
    "        obsyears = Dates.year.(obstime)\n",
    "        nmonths_region[iii, :] = [length(findall(obsmonths .== mm)) for mm = 1:12]\n",
    "        nyears_region[iii, :] =\n",
    "            [length(findall(obsyears .== yyyy)) for yyyy = yearmin:yearmax]\n",
    "    end\n",
    "\n",
    "    fig = Figure(size = (1500, 500))\n",
    "    ax = Axis(\n",
    "        fig[1, 1],\n",
    "        title = \"Number of $(varname) observations per year\",\n",
    "        xticks = 1960:10:2020,\n",
    "    )\n",
    "\n",
    "    ax2 = Axis(\n",
    "        fig[1, 2],\n",
    "        xticks = 1:12,\n",
    "        xtickformat = x -> Dates.monthname.(Int.(x)),\n",
    "        xticklabelrotation = pi / 6,\n",
    "        title = \"Number of $(varname) observations per month\",\n",
    "    )\n",
    "\n",
    "    bplist = []\n",
    "    for jjj = 6:-1:1\n",
    "        bp = barplot!(\n",
    "            ax,\n",
    "            yearmin:yearmax,\n",
    "            dropdims(sum(nyears_region[1:jjj, :], dims = 1), dims = 1),\n",
    "            strokewidth = 0.5,\n",
    "            strokecolor = (:black, 0.5),\n",
    "            color = collect(values(domaincolors))[jjj],\n",
    "            label = collect(keys(domaincolors))[jjj],\n",
    "        )\n",
    "        push!(bplist, bp)\n",
    "        barplot!(\n",
    "            ax2,\n",
    "            1:12,\n",
    "            dropdims(sum(nmonths_region[1:jjj, :], dims = 1), dims = 1),\n",
    "            strokewidth = 0.5,\n",
    "            strokecolor = (:black, 0.5),\n",
    "            color = collect(values(domaincolors))[jjj],\n",
    "        )\n",
    "        hidespines!(ax2, :t, :r)\n",
    "    end\n",
    "    axislegend(ax, reverse(bplist), collect(keys(domaincolors)), position = :lt)\n",
    "    xlims!(ax, 1960 - 0.5, 2024 + 0.5)\n",
    "    xlims!(ax2, 0.5, 12 + 0.5)\n",
    "    hidespines!(ax, :t, :r)\n",
    "    hidespines!(ax2, :t, :r)\n",
    "\n",
    "    save(joinpath(figdir, \"stacked_histogram_$varname.png\"), fig)\n",
    "end"
   ]
  }
 ],
 "metadata": {
  "kernelspec": {
   "display_name": "Julia 1.11.3",
   "language": "julia",
   "name": "julia-1.11"
  },
  "language_info": {
   "file_extension": ".jl",
   "mimetype": "application/julia",
   "name": "julia",
   "version": "1.11.3"
  }
 },
 "nbformat": 4,
 "nbformat_minor": 5
}
