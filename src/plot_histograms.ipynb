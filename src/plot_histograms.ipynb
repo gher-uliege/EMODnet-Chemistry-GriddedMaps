{
 "cells": [
  {
   "cell_type": "markdown",
   "id": "26f8db81-eae7-47d6-830a-8c9518026380",
   "metadata": {},
   "source": [
    "# Plotting histograms\n",
    "\n",
    "Create histograms based on year and month of observations, as well as histograms based on the values.\n",
    "\n",
    "The acceptable values (for instance between 0 and 450 µmol/l for oxygen) are set in the `config.jl` file. "
   ]
  },
  {
   "cell_type": "code",
   "execution_count": 16,
   "id": "181d7923-b050-4eb0-be60-59f77b9ce590",
   "metadata": {},
   "outputs": [
    {
     "name": "stderr",
     "output_type": "stream",
     "text": [
      "\u001b[32m\u001b[1m  Activating\u001b[22m\u001b[39m project at `~/Projects/EMODnet/EMODnet-Chemistry-GriddedMaps/src`\n",
      "\u001b[36m\u001b[1m[ \u001b[22m\u001b[39m\u001b[36m\u001b[1mInfo: \u001b[22m\u001b[39mPrecompiling DIVAnd [efc8151c-67de-5a8f-9a35-d8f54746ae9d] (cache misses: wrong dep version loaded (6), incompatible header (2))\n"
     ]
    }
   ],
   "source": [
    "using Pkg\n",
    "Pkg.activate(\"./\")\n",
    "using Glob\n",
    "using Dates\n",
    "using DIVAnd\n",
    "using NCDatasets\n",
    "using GeoDatasets\n",
    "using CairoMakie, GeoMakie\n",
    "using JupyterFormatter\n",
    "enable_autoformat()\n",
    "include(\"./config.jl\")\n",
    "monthlist = [Dates.monthname(mm) for mm = 1:12];"
   ]
  },
  {
   "cell_type": "markdown",
   "id": "4cccc3ea-de85-458e-b833-8d291f92b0e6",
   "metadata": {},
   "source": [
    "## All regions together"
   ]
  },
  {
   "cell_type": "code",
   "execution_count": 3,
   "id": "0eaa02b0-c7c1-4d28-bce4-cca6a71459dc",
   "metadata": {},
   "outputs": [
    {
     "ename": "LoadError",
     "evalue": "UndefVarError: `varlist` not defined in `Main`\nSuggestion: check for spelling errors or missing imports.",
     "output_type": "error",
     "traceback": [
      "UndefVarError: `varlist` not defined in `Main`\nSuggestion: check for spelling errors or missing imports.",
      "",
      "Stacktrace:",
      " [1] top-level scope",
      "\u001b[90m   @\u001b[39m \u001b[90m\u001b[4mIn[3]:1\u001b[24m\u001b[39m",
      " [2] \u001b[0m\u001b[1meval\u001b[22m\u001b[0m\u001b[1m(\u001b[22m\u001b[90mm\u001b[39m::\u001b[0mModule, \u001b[90me\u001b[39m::\u001b[0mAny\u001b[0m\u001b[1m)\u001b[22m",
      "\u001b[90m   @\u001b[39m \u001b[90mCore\u001b[39m \u001b[90m./\u001b[39m\u001b[90m\u001b[4mboot.jl:489\u001b[24m\u001b[39m"
     ]
    }
   ],
   "source": [
    "for varname in varlist\n",
    "    varname_ = replace(varname, \"_\" => \" \")\n",
    "    datafilelist = sort(Glob.glob(\"*$(varname)*.nc\", datadir))\n",
    "\n",
    "    obsyears = Int64[]\n",
    "    obsmonths = Int64[]\n",
    "\n",
    "    for (iii, datafile) in enumerate(datafilelist)\n",
    "        @debug(\"Reading data from $(basename(datafile))\")\n",
    "        obsvalue, obslon, obslat, obsdepth, obstime, obsids =\n",
    "            loadobs(Float64, datafile, varname)\n",
    "        append!(obsyears, Dates.year.(obstime))\n",
    "        append!(obsmonths, Dates.month.(obstime))\n",
    "    end\n",
    "\n",
    "    @info(extrema(obsyears))\n",
    "    yearmin = minimum(obsyears)\n",
    "    yearmax = maximum(obsyears)\n",
    "    nobs_month = [length(findall(obsmonths .== mm)) for mm = 1:12]\n",
    "    nobs_year = [length(findall(obsyears .== yyyy)) for yyyy = yearmin:yearmax]\n",
    "\n",
    "    # Make figure\n",
    "    fig1 = make_histogram(yearmin, yearmax, nobs_year, nobs_month, varname_)\n",
    "    save(joinpath(figdir, \"histogram_$varname.png\"), fig1)\n",
    "end"
   ]
  },
  {
   "cell_type": "markdown",
   "id": "eec82248-5e53-48ef-8209-7bd789d3f030",
   "metadata": {},
   "source": [
    "## One color by region"
   ]
  },
  {
   "cell_type": "code",
   "execution_count": 4,
   "id": "caa231ed-2c79-414c-a5dc-f0a262caf07a",
   "metadata": {},
   "outputs": [
    {
     "ename": "LoadError",
     "evalue": "UndefVarError: `varlist` not defined in `Main`\nSuggestion: check for spelling errors or missing imports.",
     "output_type": "error",
     "traceback": [
      "UndefVarError: `varlist` not defined in `Main`\nSuggestion: check for spelling errors or missing imports.",
      "",
      "Stacktrace:",
      " [1] top-level scope",
      "\u001b[90m   @\u001b[39m \u001b[90m\u001b[4mIn[4]:4\u001b[24m\u001b[39m",
      " [2] \u001b[0m\u001b[1meval\u001b[22m\u001b[0m\u001b[1m(\u001b[22m\u001b[90mm\u001b[39m::\u001b[0mModule, \u001b[90me\u001b[39m::\u001b[0mAny\u001b[0m\u001b[1m)\u001b[22m",
      "\u001b[90m   @\u001b[39m \u001b[90mCore\u001b[39m \u001b[90m./\u001b[39m\u001b[90m\u001b[4mboot.jl:489\u001b[24m\u001b[39m"
     ]
    }
   ],
   "source": [
    "yearmin = 1960\n",
    "yearmax = 2024\n",
    "\n",
    "for varname in varlist\n",
    "    @info(\"Working on variable $(varname)\")\n",
    "    varname_ = replace(varname, \"_\" => \" \")\n",
    "    datafilelist = sort(Glob.glob(\"*$(varname)*.nc\", datadir))\n",
    "\n",
    "    nyears_region = zeros(length(datafilelist), yearmax - yearmin + 1)\n",
    "    nmonths_region = zeros(length(datafilelist), 12)\n",
    "\n",
    "    for (iii, datafile) in enumerate(datafilelist)\n",
    "        @debug(\"Reading data from $(basename(datafile))\")\n",
    "        obsvalue, obslon, obslat, obsdepth, obstime, obsids =\n",
    "            loadobs(Float64, datafile, varname)\n",
    "\n",
    "        obsmonths = Dates.month.(obstime)\n",
    "        obsyears = Dates.year.(obstime)\n",
    "        nmonths_region[iii, :] = [length(findall(obsmonths .== mm)) for mm = 1:12]\n",
    "        nyears_region[iii, :] =\n",
    "            [length(findall(obsyears .== yyyy)) for yyyy = yearmin:yearmax]\n",
    "    end\n",
    "\n",
    "    fig = Figure(size = (1500, 500))\n",
    "    ax = Axis(\n",
    "        fig[1, 1],\n",
    "        title = \"Number of $(varname) observations per year\",\n",
    "        xticks = 1960:10:2020,\n",
    "    )\n",
    "\n",
    "    ax2 = Axis(\n",
    "        fig[1, 2],\n",
    "        xticks = 1:12,\n",
    "        xtickformat = x -> Dates.monthname.(Int.(x)),\n",
    "        xticklabelrotation = pi / 6,\n",
    "        title = \"Number of $(varname) observations per month\",\n",
    "    )\n",
    "\n",
    "    bplist = []\n",
    "    for jjj = 6:-1:1\n",
    "        bp = barplot!(\n",
    "            ax,\n",
    "            yearmin:yearmax,\n",
    "            dropdims(sum(nyears_region[1:jjj, :], dims = 1), dims = 1),\n",
    "            strokewidth = 0.5,\n",
    "            strokecolor = (:black, 0.5),\n",
    "            color = collect(values(domaincolors))[jjj],\n",
    "            label = collect(keys(domaincolors))[jjj],\n",
    "        )\n",
    "        push!(bplist, bp)\n",
    "        barplot!(\n",
    "            ax2,\n",
    "            1:12,\n",
    "            dropdims(sum(nmonths_region[1:jjj, :], dims = 1), dims = 1),\n",
    "            strokewidth = 0.5,\n",
    "            strokecolor = (:black, 0.5),\n",
    "            color = collect(values(domaincolors))[jjj],\n",
    "        )\n",
    "        hidespines!(ax2, :t, :r)\n",
    "    end\n",
    "    axislegend(ax, reverse(bplist), collect(keys(domaincolors)), position = :lt)\n",
    "    xlims!(ax, 1960 - 0.5, 2024 + 0.5)\n",
    "    xlims!(ax2, 0.5, 12 + 0.5)\n",
    "    hidespines!(ax, :t, :r)\n",
    "    hidespines!(ax2, :t, :r)\n",
    "\n",
    "    save(joinpath(figdir, \"stacked_histogram_$varname.png\"), fig)\n",
    "end"
   ]
  },
  {
   "cell_type": "markdown",
   "id": "46be7d77-533b-41ed-8361-fbe9dca2cd74",
   "metadata": {},
   "source": [
    "## By values (all together)"
   ]
  },
  {
   "cell_type": "code",
   "execution_count": 38,
   "id": "77c52349-5438-4c33-bd23-595630fae59b",
   "metadata": {},
   "outputs": [],
   "source": [
    "nbins = 21\n",
    "for varname in varlist\n",
    "    varname_ = replace(varname, \"_\" => \" \")\n",
    "    datafilelist = sort(Glob.glob(\"*$(varname)*.nc\", datadir))\n",
    "\n",
    "    obsvalues = Float64[]\n",
    "\n",
    "    for (iii, datafile) in enumerate(datafilelist)\n",
    "        @debug(\"Reading data from $(basename(datafile))\")\n",
    "        obsval, obslon, obslat, obsdepth, obstime, obsids =\n",
    "            loadobs(Float64, datafile, varname)\n",
    "        append!(obsvalues, obsval)\n",
    "    end\n",
    "\n",
    "    fig = Figure(size = (700, 400))\n",
    "    ax = Axis(\n",
    "        fig[1, 1],\n",
    "        title = \"$(varname_) histogram\",\n",
    "        xlabel = \"Concentration ($(varunits[varname]))\",\n",
    "        ylabel = \"Number of\\nobservations\\nper bin\",\n",
    "        ylabelrotation = 0,\n",
    "    )\n",
    "    hist!(\n",
    "        ax,\n",
    "        obsvalues,\n",
    "        bins = collect(range(varrange[varname][1], varrange[varname][2], nbins)),\n",
    "        strokewidth = 0.5,\n",
    "        strokecolor = (:black, 0.5),\n",
    "        color = :grey,\n",
    "    )\n",
    "    hidespines!(ax, :t, :r)\n",
    "    # display(fig)\n",
    "    save(joinpath(figdir, \"histogram_value_$(varname).png\"), fig)\n",
    "end"
   ]
  },
  {
   "cell_type": "markdown",
   "id": "8a658203-1a73-478e-aefc-11f9183bb28f",
   "metadata": {},
   "source": [
    "## By value, with color"
   ]
  },
  {
   "cell_type": "code",
   "execution_count": 42,
   "id": "1d44df4d-cf3c-4fe1-ab82-39b976c1619a",
   "metadata": {},
   "outputs": [],
   "source": [
    "nbins = 21\n",
    "for varname in varlist\n",
    "    varname_ = replace(varname, \"_\" => \" \")\n",
    "    datafilelist = sort(Glob.glob(\"*$(varname)*.nc\", datadir))\n",
    "\n",
    "    obsvalues = Float64[]\n",
    "    ndata = zeros(length(datafilelist), nbins - 1)\n",
    "    bins = collect(range(varrange[varname][1], varrange[varname][2], nbins))\n",
    "\n",
    "    for (iii, datafile) in enumerate(datafilelist)\n",
    "        @debug(\"Reading data from $(basename(datafile))\")\n",
    "        obsval, obslon, obslat, obsdepth, obstime, obsids =\n",
    "            loadobs(Float64, datafile, varname)\n",
    "        append!(obsvalues, obsval)\n",
    "\n",
    "        for jjj = 1:nbins-1\n",
    "            ndata[iii, jjj] = sum((obsval .>= bins[jjj]) .& (obsval .< bins[jjj+1]))\n",
    "        end\n",
    "\n",
    "    end\n",
    "\n",
    "    fig = Figure(size = (700, 400))\n",
    "    ax = Axis(\n",
    "        fig[1, 1],\n",
    "        title = \"$(varname_) histogram\",\n",
    "        xlabel = \"Concentration ($(varunits[varname]))\",\n",
    "        ylabel = \"Number of\\nobservations\\nper bin\",\n",
    "        ylabelrotation = 0,\n",
    "    )\n",
    "\n",
    "    bplist = []\n",
    "    for kkk = 6:-1:1\n",
    "        bp = barplot!(\n",
    "            ax,\n",
    "            bins[1:end-1] .+ 0.5,\n",
    "            dropdims(sum(ndata[1:kkk, :], dims = 1), dims = 1),\n",
    "            strokewidth = 0.5,\n",
    "            strokecolor = (:black, 0.5),\n",
    "            color = collect(values(domaincolors))[kkk],\n",
    "            label = collect(keys(domaincolors))[kkk],\n",
    "        )\n",
    "        push!(bplist, bp)\n",
    "    end\n",
    "\n",
    "    axislegend(ax, reverse(bplist), collect(keys(domaincolors)), position = :rt)\n",
    "    hidespines!(ax, :t, :r)\n",
    "    # display(fig)\n",
    "    save(joinpath(figdir, \"histogram_value_$(varname).png\"), fig)\n",
    "end"
   ]
  },
  {
   "cell_type": "code",
   "execution_count": null,
   "id": "a2f3b677-cc8c-436a-8840-8fd61f56ad00",
   "metadata": {},
   "outputs": [],
   "source": []
  }
 ],
 "metadata": {
  "kernelspec": {
   "display_name": "Julia 1.12.0-rc1",
   "language": "julia",
   "name": "julia-1.12"
  },
  "language_info": {
   "file_extension": ".jl",
   "mimetype": "application/julia",
   "name": "julia",
   "version": "1.12.0"
  }
 },
 "nbformat": 4,
 "nbformat_minor": 5
}
