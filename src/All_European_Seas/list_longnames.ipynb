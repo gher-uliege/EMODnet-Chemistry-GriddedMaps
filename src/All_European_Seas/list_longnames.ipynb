{
 "cells": [
  {
   "cell_type": "code",
   "execution_count": 1,
   "id": "4b658dfb-962b-406f-815b-139bf5908f5b",
   "metadata": {},
   "outputs": [],
   "source": [
    "using NCDatasets"
   ]
  },
  {
   "cell_type": "code",
   "execution_count": 3,
   "id": "653c2eea-2f39-4eb4-acd7-031cabe26bd9",
   "metadata": {},
   "outputs": [
    {
     "data": {
      "text/plain": [
       "true"
      ]
     },
     "execution_count": 3,
     "metadata": {},
     "output_type": "execute_result"
    }
   ],
   "source": [
    "datadir = \"/home/ctroupin/data/EMODnet-Chemistry/Eutrophication2024/\"\n",
    "datafile = joinpath(datadir, \"Water_body_ammonium.nc\")\n",
    "isfile(datafile)"
   ]
  },
  {
   "cell_type": "code",
   "execution_count": 15,
   "id": "9c7ef98d-10d3-4e5c-8637-95a648cd2394",
   "metadata": {
    "scrolled": true
   },
   "outputs": [
    {
     "name": "stdout",
     "output_type": "stream",
     "text": [
      "Water body ammonium\n",
      "Water body ammonium masked using relative error threshold 0.3\n",
      "Water body ammonium masked using relative error threshold 0.5\n",
      "Relative error of Water body ammonium\n",
      "depth below sea level\n",
      "latitude\n",
      "longitude\n",
      "depth below sea level\n",
      "observation identifier\n",
      "latitude\n",
      "longitude\n",
      "time\n",
      "time\n",
      "Deepest values of Water body ammonium\n",
      "Deepest values of Water body ammonium masked using relative error threshold 0.3\n",
      "Deepest values of Water body ammonium masked using relative error threshold 0.5\n",
      "Deepest depth for Water_body_ammonium\n"
     ]
    },
    {
     "data": {
      "text/plain": [
       "17-element Vector{Any}:\n",
       " \"Water body ammonium\"\n",
       " \"Water body ammonium masked using relative error threshold 0.3\"\n",
       " \"Water body ammonium masked using relative error threshold 0.5\"\n",
       " \"Relative error of Water body ammonium\"\n",
       " \"depth below sea level\"\n",
       " \"latitude\"\n",
       " \"longitude\"\n",
       " \"depth below sea level\"\n",
       " \"observation identifier\"\n",
       " \"latitude\"\n",
       " \"longitude\"\n",
       " \"time\"\n",
       " \"time\"\n",
       " \"Deepest values of Water body ammonium\"\n",
       " \"Deepest values of Water body am\"\u001b[93m\u001b[1m ⋯ 17 bytes ⋯ \u001b[22m\u001b[39m\"ng relative error threshold 0.3\"\n",
       " \"Deepest values of Water body am\"\u001b[93m\u001b[1m ⋯ 17 bytes ⋯ \u001b[22m\u001b[39m\"ng relative error threshold 0.5\"\n",
       " \"Deepest depth for Water_body_ammonium\""
      ]
     },
     "execution_count": 15,
     "metadata": {},
     "output_type": "execute_result"
    }
   ],
   "source": [
    "NCDataset(datafile, \"r\") do ds\n",
    "    varlist = keys(ds)\n",
    "    thelist = []\n",
    "\n",
    "    for vvar in varlist\n",
    "        varattribs = Dict(ds[vvar].attrib)\n",
    "        if haskey(varattribs, \"long_name\") \n",
    "            println(varattribs[\"long_name\"])\n",
    "            push!(thelist, varattribs[\"long_name\"])\n",
    "\n",
    "        end\n",
    "    end\n",
    "    thelist\n",
    "end"
   ]
  },
  {
   "cell_type": "code",
   "execution_count": 10,
   "id": "374b2859-838f-45b3-ab98-a6b0058fa778",
   "metadata": {},
   "outputs": [
    {
     "name": "stdout",
     "output_type": "stream",
     "text": [
      "search: \u001b[0m\u001b[1mo\u001b[22m\u001b[0m\u001b[1mc\u001b[22m\u001b[0m\u001b[1mc\u001b[22m\u001b[0m\u001b[1mu\u001b[22m\u001b[0m\u001b[1mr\u001b[22m\u001b[0m\u001b[1ms\u001b[22m\u001b[0m\u001b[1mi\u001b[22m\u001b[0m\u001b[1mn\u001b[22m\n",
      "\n"
     ]
    },
    {
     "data": {
      "text/latex": [
       "\\begin{verbatim}\n",
       "occursin(needle::Union{AbstractString,AbstractPattern,AbstractChar}, haystack::AbstractString)\n",
       "\\end{verbatim}\n",
       "Determine whether the first argument is a substring of the second. If \\texttt{needle} is a regular expression, checks whether \\texttt{haystack} contains a match.\n",
       "\n",
       "\\section{Examples}\n",
       "\\begin{verbatim}\n",
       "julia> occursin(\"Julia\", \"JuliaLang is pretty cool!\")\n",
       "true\n",
       "\n",
       "julia> occursin('a', \"JuliaLang is pretty cool!\")\n",
       "true\n",
       "\n",
       "julia> occursin(r\"a.a\", \"aba\")\n",
       "true\n",
       "\n",
       "julia> occursin(r\"a.a\", \"abba\")\n",
       "false\n",
       "\\end{verbatim}\n",
       "See also \\href{@ref}{\\texttt{contains}}.\n",
       "\n",
       "\\rule{\\textwidth}{1pt}\n",
       "\\begin{verbatim}\n",
       "occursin(haystack)\n",
       "\\end{verbatim}\n",
       "Create a function that checks whether its argument occurs in \\texttt{haystack}, i.e. a function equivalent to \\texttt{needle -> occursin(needle, haystack)}.\n",
       "\n",
       "The returned function is of type \\texttt{Base.Fix2\\{typeof(occursin)\\}}.\n",
       "\n",
       "\\begin{quote}\n",
       "\\textbf{compat}\n",
       "\n",
       "Julia 1.6\n",
       "\n",
       "This method requires Julia 1.6 or later.\n",
       "\n",
       "\\end{quote}\n",
       "\\section{Examples}\n",
       "\\begin{verbatim}\n",
       "julia> search_f = occursin(\"JuliaLang is a programming language\");\n",
       "\n",
       "julia> search_f(\"JuliaLang\")\n",
       "true\n",
       "\n",
       "julia> search_f(\"Python\")\n",
       "false\n",
       "\\end{verbatim}\n"
      ],
      "text/markdown": [
       "```\n",
       "occursin(needle::Union{AbstractString,AbstractPattern,AbstractChar}, haystack::AbstractString)\n",
       "```\n",
       "\n",
       "Determine whether the first argument is a substring of the second. If `needle` is a regular expression, checks whether `haystack` contains a match.\n",
       "\n",
       "# Examples\n",
       "\n",
       "```jldoctest\n",
       "julia> occursin(\"Julia\", \"JuliaLang is pretty cool!\")\n",
       "true\n",
       "\n",
       "julia> occursin('a', \"JuliaLang is pretty cool!\")\n",
       "true\n",
       "\n",
       "julia> occursin(r\"a.a\", \"aba\")\n",
       "true\n",
       "\n",
       "julia> occursin(r\"a.a\", \"abba\")\n",
       "false\n",
       "```\n",
       "\n",
       "See also [`contains`](@ref).\n",
       "\n",
       "---\n",
       "\n",
       "```\n",
       "occursin(haystack)\n",
       "```\n",
       "\n",
       "Create a function that checks whether its argument occurs in `haystack`, i.e. a function equivalent to `needle -> occursin(needle, haystack)`.\n",
       "\n",
       "The returned function is of type `Base.Fix2{typeof(occursin)}`.\n",
       "\n",
       "!!! compat \"Julia 1.6\"\n",
       "    This method requires Julia 1.6 or later.\n",
       "\n",
       "\n",
       "# Examples\n",
       "\n",
       "```jldoctest\n",
       "julia> search_f = occursin(\"JuliaLang is a programming language\");\n",
       "\n",
       "julia> search_f(\"JuliaLang\")\n",
       "true\n",
       "\n",
       "julia> search_f(\"Python\")\n",
       "false\n",
       "```\n"
      ],
      "text/plain": [
       "\u001b[36m  occursin(needle::Union{AbstractString,AbstractPattern,AbstractChar}, haystack::AbstractString)\u001b[39m\n",
       "\n",
       "  Determine whether the first argument is a substring of the second. If \u001b[36mneedle\u001b[39m\n",
       "  is a regular expression, checks whether \u001b[36mhaystack\u001b[39m contains a match.\n",
       "\n",
       "\u001b[1m  Examples\u001b[22m\n",
       "\u001b[1m  ≡≡≡≡≡≡≡≡\u001b[22m\n",
       "\n",
       "\u001b[36m  julia> occursin(\"Julia\", \"JuliaLang is pretty cool!\")\u001b[39m\n",
       "\u001b[36m  true\u001b[39m\n",
       "\u001b[36m  \u001b[39m\n",
       "\u001b[36m  julia> occursin('a', \"JuliaLang is pretty cool!\")\u001b[39m\n",
       "\u001b[36m  true\u001b[39m\n",
       "\u001b[36m  \u001b[39m\n",
       "\u001b[36m  julia> occursin(r\"a.a\", \"aba\")\u001b[39m\n",
       "\u001b[36m  true\u001b[39m\n",
       "\u001b[36m  \u001b[39m\n",
       "\u001b[36m  julia> occursin(r\"a.a\", \"abba\")\u001b[39m\n",
       "\u001b[36m  false\u001b[39m\n",
       "\n",
       "  See also \u001b[36mcontains\u001b[39m.\n",
       "\n",
       "  ────────────────────────────────────────────────────────────────────────────\n",
       "\n",
       "\u001b[36m  occursin(haystack)\u001b[39m\n",
       "\n",
       "  Create a function that checks whether its argument occurs in \u001b[36mhaystack\u001b[39m, i.e.\n",
       "  a function equivalent to \u001b[36mneedle -> occursin(needle, haystack)\u001b[39m.\n",
       "\n",
       "  The returned function is of type \u001b[36mBase.Fix2{typeof(occursin)}\u001b[39m.\n",
       "\n",
       "\u001b[39m\u001b[1m  │ \u001b[22m\u001b[39m\u001b[1mJulia 1.6\u001b[22m\n",
       "\u001b[39m\u001b[1m  │\u001b[22m\n",
       "\u001b[39m\u001b[1m  │\u001b[22m  This method requires Julia 1.6 or later.\n",
       "\n",
       "\u001b[1m  Examples\u001b[22m\n",
       "\u001b[1m  ≡≡≡≡≡≡≡≡\u001b[22m\n",
       "\n",
       "\u001b[36m  julia> search_f = occursin(\"JuliaLang is a programming language\");\u001b[39m\n",
       "\u001b[36m  \u001b[39m\n",
       "\u001b[36m  julia> search_f(\"JuliaLang\")\u001b[39m\n",
       "\u001b[36m  true\u001b[39m\n",
       "\u001b[36m  \u001b[39m\n",
       "\u001b[36m  julia> search_f(\"Python\")\u001b[39m\n",
       "\u001b[36m  false\u001b[39m"
      ]
     },
     "execution_count": 10,
     "metadata": {},
     "output_type": "execute_result"
    }
   ],
   "source": [
    "?occursin"
   ]
  },
  {
   "cell_type": "code",
   "execution_count": null,
   "id": "f8696a8c-8bfa-4e18-ba8e-523112204e62",
   "metadata": {},
   "outputs": [],
   "source": []
  }
 ],
 "metadata": {
  "kernelspec": {
   "display_name": "Julia 1.11.5",
   "language": "julia",
   "name": "julia-1.11"
  },
  "language_info": {
   "file_extension": ".jl",
   "mimetype": "application/julia",
   "name": "julia",
   "version": "1.11.5"
  }
 },
 "nbformat": 4,
 "nbformat_minor": 5
}
