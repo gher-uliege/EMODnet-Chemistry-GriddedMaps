{
 "cells": [
  {
   "cell_type": "code",
   "execution_count": 125,
   "id": "a73edd1c-7aee-4022-90de-e05b3be4de47",
   "metadata": {},
   "outputs": [
    {
     "data": {
      "text/plain": [
       "make_histogram (generic function with 1 method)"
      ]
     },
     "execution_count": 125,
     "metadata": {},
     "output_type": "execute_result"
    }
   ],
   "source": [
    "using Glob\n",
    "using DIVAnd\n",
    "using NCDatasets\n",
    "using GeoDatasets\n",
    "using CairoMakie, GeoMakie\n",
    "using JupyterFormatter\n",
    "enable_autoformat()\n",
    "include(\"./config.jl\")"
   ]
  },
  {
   "cell_type": "code",
   "execution_count": 126,
   "id": "6b6dafe9-f334-4399-8775-00f35d0d9cdc",
   "metadata": {},
   "outputs": [
    {
     "data": {
      "text/plain": [
       "37.79527559055118"
      ]
     },
     "execution_count": 126,
     "metadata": {},
     "output_type": "execute_result"
    }
   ],
   "source": [
    "inch = 96\n",
    "pt = 4 / 3\n",
    "cm = inch / 2.54"
   ]
  },
  {
   "cell_type": "markdown",
   "id": "7b473cb7-a405-4090-abf3-482f0c64a745",
   "metadata": {},
   "source": [
    "## Read land-sea mask data"
   ]
  },
  {
   "cell_type": "code",
   "execution_count": 97,
   "id": "aa79b884-b039-43fb-a67f-024f560d77cc",
   "metadata": {},
   "outputs": [
    {
     "name": "stderr",
     "output_type": "stream",
     "text": [
      "\u001b[36m\u001b[1m[ \u001b[22m\u001b[39m\u001b[36m\u001b[1mInfo: \u001b[22m\u001b[39mDownloading file 'lsmask_5min_i.bin' from 'https://raw.githubusercontent.com/matplotlib/basemap/v1.2.2rel/lib/mpl_toolkits/basemap/data/lsmask_5min_i.bin' with cURL.\n"
     ]
    }
   ],
   "source": [
    "lon_landsea, lat_landsea, landsea = GeoDatasets.landseamask(; resolution = 'i', grid = 5)\n",
    "landsea[landsea.==2] .= 1;"
   ]
  },
  {
   "cell_type": "code",
   "execution_count": 98,
   "id": "70802387-13b3-42bf-be96-ac79c2015d2c",
   "metadata": {},
   "outputs": [
    {
     "data": {
      "text/plain": [
       "(4320, 2160)"
      ]
     },
     "execution_count": 98,
     "metadata": {},
     "output_type": "execute_result"
    }
   ],
   "source": [
    "size(landsea)"
   ]
  },
  {
   "cell_type": "markdown",
   "id": "882d6d40-d7bf-468d-b18a-874dddfc1620",
   "metadata": {},
   "source": [
    "## Files and directories\n",
    "Defined in the file `config.jl`"
   ]
  },
  {
   "cell_type": "markdown",
   "id": "bf30ece8-8656-4b77-b554-fc4806520d86",
   "metadata": {},
   "source": [
    "## Loop on the variables"
   ]
  },
  {
   "cell_type": "code",
   "execution_count": 128,
   "id": "2b1c3ed8-40b4-465e-b93d-25498a178fb8",
   "metadata": {},
   "outputs": [
    {
     "name": "stderr",
     "output_type": "stream",
     "text": [
      "\u001b[36m\u001b[1m[ \u001b[22m\u001b[39m\u001b[36m\u001b[1mInfo: \u001b[22m\u001b[39mReading data from ArcticSea_Water_body_ammonium.nc\n"
     ]
    },
    {
     "name": "stdout",
     "output_type": "stream",
     "text": [
      "  0.004005 seconds (1.49 k allocations: 24.939 MiB)\n",
      "  0.019920 seconds (12.92 k allocations: 35.439 MiB)\n",
      "  0.072515 seconds (255.35 k allocations: 82.217 MiB)\n"
     ]
    },
    {
     "name": "stderr",
     "output_type": "stream",
     "text": [
      "\u001b[36m\u001b[1m[ \u001b[22m\u001b[39m\u001b[36m\u001b[1mInfo: \u001b[22m\u001b[39mReading data from Atlantic_Water_body_ammonium.nc\n",
      "\u001b[36m\u001b[1m[ \u001b[22m\u001b[39m\u001b[36m\u001b[1mInfo: \u001b[22m\u001b[39mReading data from BalticSea_Water_body_ammonium.nc\n",
      "\u001b[36m\u001b[1m[ \u001b[22m\u001b[39m\u001b[36m\u001b[1mInfo: \u001b[22m\u001b[39mReading data from BlackSea_Water_body_ammonium.nc\n"
     ]
    },
    {
     "name": "stdout",
     "output_type": "stream",
     "text": [
      "  0.034153 seconds (62.49 k allocations: 56.791 MiB)\n",
      "  0.032573 seconds (55.12 k allocations: 49.433 MiB)\n",
      "  0.046985 seconds (11.83 k allocations: 69.560 MiB, 25.10% gc time)\n"
     ]
    },
    {
     "name": "stderr",
     "output_type": "stream",
     "text": [
      "\u001b[36m\u001b[1m[ \u001b[22m\u001b[39m\u001b[36m\u001b[1mInfo: \u001b[22m\u001b[39mReading data from Mediterranean_Water_body_ammonium.nc\n",
      "\u001b[36m\u001b[1m[ \u001b[22m\u001b[39m\u001b[36m\u001b[1mInfo: \u001b[22m\u001b[39mReading data from NorthSea_Water_body_ammonium.nc\n"
     ]
    },
    {
     "name": "stdout",
     "output_type": "stream",
     "text": [
      "  0.568050 seconds (81.87 k allocations: 314.143 MiB, 4.16% gc time)\n"
     ]
    },
    {
     "name": "stderr",
     "output_type": "stream",
     "text": [
      "\u001b[36m\u001b[1m[ \u001b[22m\u001b[39m\u001b[36m\u001b[1mInfo: \u001b[22m\u001b[39mReading data from ArcticSea_Water_body_chlorophyll-a.nc\n"
     ]
    },
    {
     "name": "stdout",
     "output_type": "stream",
     "text": [
      "  0.259634 seconds (500.33 k allocations: 206.818 MiB, 2.47% gc time)\n"
     ]
    },
    {
     "name": "stderr",
     "output_type": "stream",
     "text": [
      "\u001b[36m\u001b[1m[ \u001b[22m\u001b[39m\u001b[36m\u001b[1mInfo: \u001b[22m\u001b[39mReading data from Atlantic_Water_body_chlorophyll-a.nc\n"
     ]
    },
    {
     "name": "stdout",
     "output_type": "stream",
     "text": [
      "  0.101025 seconds (253.37 k allocations: 99.530 MiB)\n"
     ]
    },
    {
     "name": "stderr",
     "output_type": "stream",
     "text": [
      "\u001b[36m\u001b[1m[ \u001b[22m\u001b[39m\u001b[36m\u001b[1mInfo: \u001b[22m\u001b[39mReading data from BalticSea_Water_body_chlorophyll-a.nc\n"
     ]
    },
    {
     "name": "stdout",
     "output_type": "stream",
     "text": [
      "  0.024375 seconds (11.35 k allocations: 42.128 MiB)\n",
      "  1.430205 seconds (377.43 k allocations: 721.238 MiB, 1.79% gc time)\n"
     ]
    },
    {
     "name": "stderr",
     "output_type": "stream",
     "text": [
      "\u001b[36m\u001b[1m[ \u001b[22m\u001b[39m\u001b[36m\u001b[1mInfo: \u001b[22m\u001b[39mReading data from BlackSea_Water_body_chlorophyll-a.nc\n",
      "\u001b[36m\u001b[1m[ \u001b[22m\u001b[39m\u001b[36m\u001b[1mInfo: \u001b[22m\u001b[39mReading data from Mediterranean_Water_body_chlorophyll-a.nc\n"
     ]
    },
    {
     "name": "stdout",
     "output_type": "stream",
     "text": [
      "  0.893317 seconds (47.53 k allocations: 264.883 MiB, 45.92% gc time)\n"
     ]
    },
    {
     "name": "stderr",
     "output_type": "stream",
     "text": [
      "\u001b[36m\u001b[1m[ \u001b[22m\u001b[39m\u001b[36m\u001b[1mInfo: \u001b[22m\u001b[39mReading data from NorthSea_Water_body_chlorophyll-a.nc\n"
     ]
    },
    {
     "name": "stdout",
     "output_type": "stream",
     "text": [
      "  0.003889 seconds (1.17 k allocations: 24.857 MiB)\n",
      "  0.020142 seconds (14.01 k allocations: 35.694 MiB)\n",
      "  0.032717 seconds (50.57 k allocations: 55.358 MiB)\n",
      "  0.044793 seconds (59.89 k allocations: 50.208 MiB, 23.98% gc time)\n"
     ]
    },
    {
     "name": "stderr",
     "output_type": "stream",
     "text": [
      "\u001b[36m\u001b[1m[ \u001b[22m\u001b[39m\u001b[36m\u001b[1mInfo: \u001b[22m\u001b[39mReading data from ArcticSea_Water_body_dissolved_inorganic_nitrogen.nc\n",
      "\u001b[36m\u001b[1m[ \u001b[22m\u001b[39m\u001b[36m\u001b[1mInfo: \u001b[22m\u001b[39mReading data from Atlantic_Water_body_dissolved_inorganic_nitrogen.nc\n",
      "\u001b[36m\u001b[1m[ \u001b[22m\u001b[39m\u001b[36m\u001b[1mInfo: \u001b[22m\u001b[39mReading data from BlackSea_Water_body_dissolved_inorganic_nitrogen.nc\n",
      "\u001b[36m\u001b[1m[ \u001b[22m\u001b[39m\u001b[36m\u001b[1mInfo: \u001b[22m\u001b[39mReading data from Mediterranean_Water_body_dissolved_inorganic_nitrogen.nc\n"
     ]
    },
    {
     "name": "stdout",
     "output_type": "stream",
     "text": [
      "  0.035345 seconds (11.16 k allocations: 69.469 MiB)\n"
     ]
    },
    {
     "name": "stderr",
     "output_type": "stream",
     "text": [
      "\u001b[36m\u001b[1m[ \u001b[22m\u001b[39m\u001b[36m\u001b[1mInfo: \u001b[22m\u001b[39mReading data from NorthSea_Water_body_dissolved_inorganic_nitrogen.nc\n",
      "\u001b[36m\u001b[1m[ \u001b[22m\u001b[39m\u001b[36m\u001b[1mInfo: \u001b[22m\u001b[39mReading data from ArcticSea_Water_body_silicate.nc\n"
     ]
    },
    {
     "name": "stdout",
     "output_type": "stream",
     "text": [
      "  0.114419 seconds (93.92 k allocations: 75.563 MiB, 21.08% gc time)\n",
      "  0.033381 seconds (23.49 k allocations: 49.832 MiB)\n",
      "  0.102513 seconds (257.74 k allocations: 87.634 MiB, 10.92% gc time)\n"
     ]
    },
    {
     "name": "stderr",
     "output_type": "stream",
     "text": [
      "\u001b[36m\u001b[1m[ \u001b[22m\u001b[39m\u001b[36m\u001b[1mInfo: \u001b[22m\u001b[39mReading data from Atlantic_Water_body_silicate.nc\n",
      "\u001b[36m\u001b[1m[ \u001b[22m\u001b[39m\u001b[36m\u001b[1mInfo: \u001b[22m\u001b[39mReading data from BalticSea_Water_body_silicate.nc\n"
     ]
    },
    {
     "name": "stdout",
     "output_type": "stream",
     "text": [
      "  0.040893 seconds (82.25 k allocations: 61.326 MiB)\n",
      "  0.053841 seconds (93.64 k allocations: 62.888 MiB)\n"
     ]
    },
    {
     "name": "stderr",
     "output_type": "stream",
     "text": [
      "\u001b[36m\u001b[1m[ \u001b[22m\u001b[39m\u001b[36m\u001b[1mInfo: \u001b[22m\u001b[39mReading data from BlackSea_Water_body_silicate.nc\n",
      "\u001b[36m\u001b[1m[ \u001b[22m\u001b[39m\u001b[36m\u001b[1mInfo: \u001b[22m\u001b[39mReading data from Mediterranean_Water_body_silicate.nc\n"
     ]
    },
    {
     "name": "stdout",
     "output_type": "stream",
     "text": [
      "  0.049271 seconds (39.18 k allocations: 76.496 MiB)\n"
     ]
    },
    {
     "name": "stderr",
     "output_type": "stream",
     "text": [
      "\u001b[36m\u001b[1m[ \u001b[22m\u001b[39m\u001b[36m\u001b[1mInfo: \u001b[22m\u001b[39mReading data from NorthSea_Water_body_silicate.nc\n",
      "\u001b[36m\u001b[1m[ \u001b[22m\u001b[39m\u001b[36m\u001b[1mInfo: \u001b[22m\u001b[39mReading data from ArcticSea_Water_body_phosphate.nc\n"
     ]
    },
    {
     "name": "stdout",
     "output_type": "stream",
     "text": [
      "  0.100783 seconds (107.43 k allocations: 79.030 MiB, 22.39% gc time)\n",
      "  0.040849 seconds (41.81 k allocations: 56.541 MiB)\n",
      "  0.109836 seconds (330.75 k allocations: 97.755 MiB, 10.02% gc time)\n"
     ]
    },
    {
     "name": "stderr",
     "output_type": "stream",
     "text": [
      "\u001b[36m\u001b[1m[ \u001b[22m\u001b[39m\u001b[36m\u001b[1mInfo: \u001b[22m\u001b[39mReading data from Atlantic_Water_body_phosphate.nc\n",
      "\u001b[36m\u001b[1m[ \u001b[22m\u001b[39m\u001b[36m\u001b[1mInfo: \u001b[22m\u001b[39mReading data from BalticSea_Water_body_phosphate.nc\n"
     ]
    },
    {
     "name": "stdout",
     "output_type": "stream",
     "text": [
      "  0.040561 seconds (88.15 k allocations: 62.583 MiB)\n",
      "  0.055151 seconds (105.26 k allocations: 63.977 MiB)\n"
     ]
    },
    {
     "name": "stderr",
     "output_type": "stream",
     "text": [
      "\u001b[36m\u001b[1m[ \u001b[22m\u001b[39m\u001b[36m\u001b[1mInfo: \u001b[22m\u001b[39mReading data from BlackSea_Water_body_phosphate.nc\n",
      "\u001b[36m\u001b[1m[ \u001b[22m\u001b[39m\u001b[36m\u001b[1mInfo: \u001b[22m\u001b[39mReading data from Mediterranean_Water_body_phosphate.nc\n",
      "\u001b[36m\u001b[1m[ \u001b[22m\u001b[39m\u001b[36m\u001b[1mInfo: \u001b[22m\u001b[39mReading data from NorthSea_Water_body_phosphate.nc\n"
     ]
    },
    {
     "name": "stdout",
     "output_type": "stream",
     "text": [
      "  0.065932 seconds (40.12 k allocations: 76.723 MiB, 26.67% gc time)\n"
     ]
    },
    {
     "name": "stderr",
     "output_type": "stream",
     "text": [
      "\u001b[36m\u001b[1m[ \u001b[22m\u001b[39m\u001b[36m\u001b[1mInfo: \u001b[22m\u001b[39mReading data from ArcticSea_Water_body_dissolved_oxygen_concentration.nc\n"
     ]
    },
    {
     "name": "stdout",
     "output_type": "stream",
     "text": [
      "  0.779739 seconds (88.58 k allocations: 393.036 MiB, 3.72% gc time)\n",
      "  1.253535 seconds (67.29 k allocations: 617.696 MiB, 2.59% gc time)\n"
     ]
    },
    {
     "name": "stderr",
     "output_type": "stream",
     "text": [
      "\u001b[36m\u001b[1m[ \u001b[22m\u001b[39m\u001b[36m\u001b[1mInfo: \u001b[22m\u001b[39mReading data from Atlantic_Water_body_dissolved_oxygen_concentration.nc\n"
     ]
    },
    {
     "name": "stdout",
     "output_type": "stream",
     "text": [
      "  1.023857 seconds (501.43 k allocations: 361.592 MiB, 43.07% gc time)\n"
     ]
    },
    {
     "name": "stderr",
     "output_type": "stream",
     "text": [
      "\u001b[36m\u001b[1m[ \u001b[22m\u001b[39m\u001b[36m\u001b[1mInfo: \u001b[22m\u001b[39mReading data from BalticSea_Water_body_dissolved_oxygen_concentration.nc\n"
     ]
    },
    {
     "name": "stdout",
     "output_type": "stream",
     "text": [
      "  0.184119 seconds (137.99 k allocations: 133.006 MiB, 7.13% gc time)\n"
     ]
    },
    {
     "name": "stderr",
     "output_type": "stream",
     "text": [
      "\u001b[36m\u001b[1m[ \u001b[22m\u001b[39m\u001b[36m\u001b[1mInfo: \u001b[22m\u001b[39mReading data from BlackSea_Water_body_dissolved_oxygen_concentration.nc\n"
     ]
    },
    {
     "name": "stdout",
     "output_type": "stream",
     "text": [
      "  2.812616 seconds (269.38 k allocations: 1.091 GiB, 17.61% gc time)\n"
     ]
    },
    {
     "name": "stderr",
     "output_type": "stream",
     "text": [
      "\u001b[36m\u001b[1m[ \u001b[22m\u001b[39m\u001b[36m\u001b[1mInfo: \u001b[22m\u001b[39mReading data from Mediterranean_Water_body_dissolved_oxygen_concentration.nc\n"
     ]
    },
    {
     "name": "stdout",
     "output_type": "stream",
     "text": [
      "  0.461524 seconds (26.72 k allocations: 242.518 MiB, 3.79% gc time)\n"
     ]
    },
    {
     "name": "stderr",
     "output_type": "stream",
     "text": [
      "\u001b[36m\u001b[1m[ \u001b[22m\u001b[39m\u001b[36m\u001b[1mInfo: \u001b[22m\u001b[39mReading data from NorthSea_Water_body_dissolved_oxygen_concentration.nc\n"
     ]
    }
   ],
   "source": [
    "for varname in varlist\n",
    "\n",
    "    # Generate list of files (corresponding to this variable)\n",
    "    datafilelist = sort(Glob.glob(\"*$(varname)*.nc\", datadir))\n",
    "\n",
    "    # Generate figure\n",
    "    fig0 = make_scatter(datafilelist, varname)\n",
    "    save(joinpath(figdir, \"observations_$(varname).png\"), fig0, px_per_unit = 300 / inch)\n",
    "end"
   ]
  },
  {
   "cell_type": "markdown",
   "id": "3887ba8c-b0c9-47ab-826c-1bd7a9ebc59d",
   "metadata": {},
   "source": [
    "## Time series"
   ]
  },
  {
   "cell_type": "code",
   "execution_count": 129,
   "id": "fd99ce79-a7f9-4010-9865-593732a1bb7f",
   "metadata": {},
   "outputs": [
    {
     "name": "stdout",
     "output_type": "stream",
     "text": [
      "datafilelist = [\"/home/ctroupin/data/EMODnet-Chemistry/Eutrophication2024/netCDF/timeseries/AtlanticTS_Water_body_ammonium.nc\", \"/home/ctroupin/data/EMODnet-Chemistry/Eutrophication2024/netCDF/timeseries/BalticSeaTS_Water_body_ammonium.nc\", \"/home/ctroupin/data/EMODnet-Chemistry/Eutrophication2024/netCDF/timeseries/CaribbeanTS_Water_body_ammonium.nc\"]\n",
      "datafilelist = [\"/home/ctroupin/data/EMODnet-Chemistry/Eutrophication2024/netCDF/timeseries/AtlanticTS_Water_body_chlorophyll-a.nc\", \"/home/ctroupin/data/EMODnet-Chemistry/Eutrophication2024/netCDF/timeseries/CaribbeanTS_Water_body_chlorophyll-a.nc\"]\n",
      "datafilelist = [\"/home/ctroupin/data/EMODnet-Chemistry/Eutrophication2024/netCDF/timeseries/AtlanticTS_Water_body_dissolved_inorganic_nitrogen.nc\", \"/home/ctroupin/data/EMODnet-Chemistry/Eutrophication2024/netCDF/timeseries/CaribbeanTS_Water_body_dissolved_inorganic_nitrogen.nc\"]\n",
      "datafilelist = [\"/home/ctroupin/data/EMODnet-Chemistry/Eutrophication2024/netCDF/timeseries/AtlanticTS_Water_body_silicate.nc\", \"/home/ctroupin/data/EMODnet-Chemistry/Eutrophication2024/netCDF/timeseries/BalticSeaTS_Water_body_silicate.nc\", \"/home/ctroupin/data/EMODnet-Chemistry/Eutrophication2024/netCDF/timeseries/CaribbeanTS_Water_body_silicate.nc\"]\n",
      "datafilelist = [\"/home/ctroupin/data/EMODnet-Chemistry/Eutrophication2024/netCDF/timeseries/AtlanticTS_Water_body_phosphate.nc\", \"/home/ctroupin/data/EMODnet-Chemistry/Eutrophication2024/netCDF/timeseries/BalticSeaTS_Water_body_phosphate.nc\", \"/home/ctroupin/data/EMODnet-Chemistry/Eutrophication2024/netCDF/timeseries/CaribbeanTS_Water_body_phosphate.nc\"]\n",
      "datafilelist = [\"/home/ctroupin/data/EMODnet-Chemistry/Eutrophication2024/netCDF/timeseries/AtlanticTS_Water_body_dissolved_oxygen_concentration.nc\", \"/home/ctroupin/data/EMODnet-Chemistry/Eutrophication2024/netCDF/timeseries/CaribbeanTS_Water_body_dissolved_oxygen_concentration.nc\"]\n"
     ]
    }
   ],
   "source": [
    "datadirTS = joinpath(datadir, \"timeseries\")\n",
    "for varname in varlist\n",
    "\n",
    "    # Generate list of files (corresponding to this variable)\n",
    "    datafilelist = sort(Glob.glob(\"*$(varname)*.nc\", datadirTS))\n",
    "    @show(datafilelist)\n",
    "    # Generate figure\n",
    "    #fig0 = make_scatter(datafilelist, varname)\n",
    "    # save(joinpath(figdir, \"observations_$(varname).png\"), fig0, px_per_unit = 300 / inch)\n",
    "end\n"
   ]
  },
  {
   "cell_type": "code",
   "execution_count": null,
   "id": "24b5f8d6-981f-4697-8980-4d8f620c9a09",
   "metadata": {},
   "outputs": [],
   "source": []
  }
 ],
 "metadata": {
  "kernelspec": {
   "display_name": "Julia 1.11.3",
   "language": "julia",
   "name": "julia-1.11"
  },
  "language_info": {
   "file_extension": ".jl",
   "mimetype": "application/julia",
   "name": "julia",
   "version": "1.11.3"
  }
 },
 "nbformat": 4,
 "nbformat_minor": 5
}
