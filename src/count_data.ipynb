{
 "cells": [
  {
   "cell_type": "code",
   "execution_count": 9,
   "id": "dceac2b2-08c4-4d54-bcb8-29eefc7f7895",
   "metadata": {},
   "outputs": [
    {
     "data": {
      "text/plain": [
       "3-element Vector{Function}:\n",
       " format_current_cell (generic function with 1 method)\n",
       " format_current_cell (generic function with 1 method)\n",
       " format_current_cell (generic function with 1 method)"
      ]
     },
     "execution_count": 9,
     "metadata": {},
     "output_type": "execute_result"
    }
   ],
   "source": [
    "using Glob\n",
    "using CairoMakie\n",
    "using NCDatasets\n",
    "include(\"./config.jl\")\n",
    "using JupyterFormatter\n",
    "enable_autoformat()"
   ]
  },
  {
   "cell_type": "code",
   "execution_count": 8,
   "id": "6f5d9c1d-20d9-4bb9-aa03-a113a4efc7c0",
   "metadata": {},
   "outputs": [
    {
     "data": {
      "text/plain": [
       "12-element Vector{String}:\n",
       " \"/home/ctroupin/data/EMODnet-Che\"\u001b[93m\u001b[1m ⋯ 67 bytes ⋯ \u001b[22m\u001b[39m\"ophication_profiles_20240508.nc\"\n",
       " \"/home/ctroupin/data/EMODnet-Che\"\u001b[93m\u001b[1m ⋯ 65 bytes ⋯ \u001b[22m\u001b[39m\"trophication_timeseries_2024.nc\"\n",
       " \"/home/ctroupin/data/EMODnet-Che\"\u001b[93m\u001b[1m ⋯ 72 bytes ⋯ \u001b[22m\u001b[39m\"on_BlackSea_profiles_2024_V1.nc\"\n",
       " \"/home/ctroupin/data/EMODnet-Che\"\u001b[93m\u001b[1m ⋯ 67 bytes ⋯ \u001b[22m\u001b[39m\"ion_Arctic_profiles_2024_all.nc\"\n",
       " \"/home/ctroupin/data/EMODnet-Che\"\u001b[93m\u001b[1m ⋯ 65 bytes ⋯ \u001b[22m\u001b[39m\"ation_Atlantic_profiles_2024.nc\"\n",
       " \"/home/ctroupin/data/EMODnet-Che\"\u001b[93m\u001b[1m ⋯ 67 bytes ⋯ \u001b[22m\u001b[39m\"ion_Atlantic_timeseries_2024.nc\"\n",
       " \"/home/ctroupin/data/EMODnet-Che\"\u001b[93m\u001b[1m ⋯ 66 bytes ⋯ \u001b[22m\u001b[39m\"tion_Caribbean_profiles_2024.nc\"\n",
       " \"/home/ctroupin/data/EMODnet-Che\"\u001b[93m\u001b[1m ⋯ 69 bytes ⋯ \u001b[22m\u001b[39m\"n_Caribbean_time_series_2024.nc\"\n",
       " \"/home/ctroupin/data/EMODnet-Che\"\u001b[93m\u001b[1m ⋯ 62 bytes ⋯ \u001b[22m\u001b[39m\"hication_MED_profiles_6.2024.nc\"\n",
       " \"/home/ctroupin/data/EMODnet-Che\"\u001b[93m\u001b[1m ⋯ 64 bytes ⋯ \u001b[22m\u001b[39m\"cation_MED_timeseries_6.2024.nc\"\n",
       " \"/home/ctroupin/data/EMODnet-Che\"\u001b[93m\u001b[1m ⋯ 71 bytes ⋯ \u001b[22m\u001b[39m\"ophication_profiles_20240529.nc\"\n",
       " \"/home/ctroupin/data/EMODnet-Che\"\u001b[93m\u001b[1m ⋯ 73 bytes ⋯ \u001b[22m\u001b[39m\"hication_timeseries_20240529.nc\""
      ]
     },
     "execution_count": 8,
     "metadata": {},
     "output_type": "execute_result"
    }
   ],
   "source": [
    "datafilelist = Glob.glob(\"*nc\", joinpath(datadir, \"../ODVnetCDF\"))"
   ]
  },
  {
   "cell_type": "code",
   "execution_count": 16,
   "id": "74b34466-6dbd-412a-b504-a91865eee8dc",
   "metadata": {},
   "outputs": [
    {
     "name": "stdout",
     "output_type": "stream",
     "text": [
      "data_from_BALTIC_eutrophication_profiles_20240508.nc, 211608\n",
      "data_from_BALTIC_eutrophication_timeseries_2024.nc, 98\n",
      "data_from_EEA_Eutrophication_BlackSea_profiles_2024_V1.nc, 75730\n",
      "data_from_Eutrophication_Arctic_profiles_2024_all.nc, 145417\n",
      "data_from_Eutrophication_Atlantic_profiles_2024.nc, 389738\n",
      "data_from_Eutrophication_Atlantic_timeseries_2024.nc, 559\n",
      "data_from_Eutrophication_Caribbean_profiles_2024.nc, 2863\n",
      "data_from_Eutrophication_Caribbean_time_series_2024.nc, 91\n",
      "data_from_Eutrophication_MED_profiles_6.2024.nc, 253282\n",
      "data_from_Eutrophication_MED_timeseries_6.2024.nc, 13880\n",
      "data_from_North_Sea_eutrhophication_profiles_20240529.nc, 30804\n",
      "data_from_North_Sea_eutrhophication_timeseries_20240529.nc, 134\n"
     ]
    }
   ],
   "source": [
    "for datafile in datafilelist\n",
    "    NCDataset(datafile, \"r\") do nc\n",
    "        nsta = nc.dim[\"N_STATIONS\"]\n",
    "        println(\"$(basename(datafile)), $(nsta)\")\n",
    "    end\n",
    "end"
   ]
  },
  {
   "cell_type": "code",
   "execution_count": null,
   "id": "0b905555-855c-467c-9af5-57ea0b3c6127",
   "metadata": {},
   "outputs": [],
   "source": []
  }
 ],
 "metadata": {
  "kernelspec": {
   "display_name": "Julia 1.11.3",
   "language": "julia",
   "name": "julia-1.11"
  },
  "language_info": {
   "file_extension": ".jl",
   "mimetype": "application/julia",
   "name": "julia",
   "version": "1.11.3"
  }
 },
 "nbformat": 4,
 "nbformat_minor": 5
}
