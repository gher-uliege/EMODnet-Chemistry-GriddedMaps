{
 "cells": [
  {
   "cell_type": "code",
   "execution_count": 1,
   "id": "83143300-da83-4a55-9806-80e1a65eb1d2",
   "metadata": {},
   "outputs": [
    {
     "data": {
      "text/plain": [
       "1-element Vector{Function}:\n",
       " format_current_cell (generic function with 1 method)"
      ]
     },
     "execution_count": 1,
     "metadata": {},
     "output_type": "execute_result"
    }
   ],
   "source": [
    "using Glob\n",
    "using Dates\n",
    "using ColorSchemes\n",
    "using NCDatasets\n",
    "using CairoMakie, GeoMakie\n",
    "using GeoDatasets\n",
    "using GeometryOps, GeoInterface\n",
    "include(\"./config.jl\")\n",
    "using JupyterFormatter\n",
    "enable_autoformat()"
   ]
  },
  {
   "cell_type": "code",
   "execution_count": 17,
   "id": "0b342fe9-67c8-417c-aa68-0a1b39f40a96",
   "metadata": {},
   "outputs": [
    {
     "data": {
      "image/svg+xml": [
       "<?xml version=\"1.0\" encoding=\"UTF-8\"?>\n",
       "<!DOCTYPE svg PUBLIC \"-//W3C//DTD SVG 1.1//EN\"\n",
       " \"http://www.w3.org/Graphics/SVG/1.1/DTD/svg11.dtd\">\n",
       "<svg xmlns=\"http://www.w3.org/2000/svg\" version=\"1.1\"\n",
       "     width=\"180mm\" height=\"25mm\" viewBox=\"0 0 100 1\" stroke=\"none\"\n",
       "     preserveAspectRatio=\"none\" shape-rendering=\"crispEdges\">\n",
       "<defs>\n",
       "    <pattern id=\"pat_drDuP\" width=\".2\" height=\".2\"\n",
       "             patternUnits=\"userSpaceOnUse\" patternTransform=\"scale(13.889,1)\" >\n",
       "        <path d=\"M.1,0h.1v.1h-.2v.1h.1z\" fill=\"#999\" opacity=\".5\" />\n",
       "    </pattern>\n",
       "</defs>\n",
       "<rect width=\"100\" height=\"1\" fill=\"url(#pat_drDuP)\" />\n",
       "<path d=\"M1,.46V1h-1V.54z\" fill=\"#313695\" />\n",
       "<path d=\"M0,0h1v1h-1z\" fill=\"#313695\" fill-opacity=\"1\" />\n",
       "<path d=\"M2,.46V1h-1V.54z\" fill=\"#333C98\" />\n",
       "<path d=\"M1,0h1v1h-1z\" fill=\"#333C98\" fill-opacity=\"1\" />\n",
       "<path d=\"M3,.46V1h-1V.54z\" fill=\"#35439B\" />\n",
       "<path d=\"M2,0h1v1h-1z\" fill=\"#35439B\" fill-opacity=\"1\" />\n",
       "<path d=\"M4,.46V1h-1V.54z\" fill=\"#37499E\" />\n",
       "<path d=\"M3,0h1v1h-1z\" fill=\"#37499E\" fill-opacity=\"1\" />\n",
       "<path d=\"M5,.46V1h-1V.54z\" fill=\"#3950A1\" />\n",
       "<path d=\"M4,0h1v1h-1z\" fill=\"#3950A1\" fill-opacity=\"1\" />\n",
       "<path d=\"M6,.46V1h-1V.54z\" fill=\"#3B56A5\" />\n",
       "<path d=\"M5,0h1v1h-1z\" fill=\"#3B56A5\" fill-opacity=\"1\" />\n",
       "<path d=\"M7,.46V1h-1V.54z\" fill=\"#3D5CA8\" />\n",
       "<path d=\"M6,0h1v1h-1z\" fill=\"#3D5CA8\" fill-opacity=\"1\" />\n",
       "<path d=\"M8,.46V1h-1V.54z\" fill=\"#3F63AB\" />\n",
       "<path d=\"M7,0h1v1h-1z\" fill=\"#3F63AB\" fill-opacity=\"1\" />\n",
       "<path d=\"M9,.46V1h-1V.54z\" fill=\"#4169AE\" />\n",
       "<path d=\"M8,0h1v1h-1z\" fill=\"#4169AE\" fill-opacity=\"1\" />\n",
       "<path d=\"M10,.46V1h-1V.54z\" fill=\"#436FB1\" />\n",
       "<path d=\"M9,0h1v1h-1z\" fill=\"#436FB1\" fill-opacity=\"1\" />\n",
       "<path d=\"M11,.46V1h-1V.54z\" fill=\"#4676B4\" />\n",
       "<path d=\"M10,0h1v1h-1z\" fill=\"#4676B4\" fill-opacity=\"1\" />\n",
       "<path d=\"M12,.46V1h-1V.54z\" fill=\"#4A7BB7\" />\n",
       "<path d=\"M11,0h1v1h-1z\" fill=\"#4A7BB7\" fill-opacity=\"1\" />\n",
       "<path d=\"M13,.46V1h-1V.54z\" fill=\"#4F81BA\" />\n",
       "<path d=\"M12,0h1v1h-1z\" fill=\"#4F81BA\" fill-opacity=\"1\" />\n",
       "<path d=\"M14,.46V1h-1V.54z\" fill=\"#5487BD\" />\n",
       "<path d=\"M13,0h1v1h-1z\" fill=\"#5487BD\" fill-opacity=\"1\" />\n",
       "<path d=\"M15,.46V1h-1V.54z\" fill=\"#598CC0\" />\n",
       "<path d=\"M14,0h1v1h-1z\" fill=\"#598CC0\" fill-opacity=\"1\" />\n",
       "<path d=\"M16,.46V1h-1V.54z\" fill=\"#5D92C3\" />\n",
       "<path d=\"M15,0h1v1h-1z\" fill=\"#5D92C3\" fill-opacity=\"1\" />\n",
       "<path d=\"M17,.46V1h-1V.54z\" fill=\"#6297C6\" />\n",
       "<path d=\"M16,0h1v1h-1z\" fill=\"#6297C6\" fill-opacity=\"1\" />\n",
       "<path d=\"M18,.46V1h-1V.54z\" fill=\"#679DC9\" />\n",
       "<path d=\"M17,0h1v1h-1z\" fill=\"#679DC9\" fill-opacity=\"1\" />\n",
       "<path d=\"M19,.46V1h-1V.54z\" fill=\"#6BA3CC\" />\n",
       "<path d=\"M18,0h1v1h-1z\" fill=\"#6BA3CC\" fill-opacity=\"1\" />\n",
       "<path d=\"M20,.46V1h-1V.54z\" fill=\"#70A8CF\" />\n",
       "<path d=\"M19,0h1v1h-1z\" fill=\"#70A8CF\" fill-opacity=\"1\" />\n",
       "<path d=\"M21,.46V1h-1V.54z\" fill=\"#75AED2\" />\n",
       "<path d=\"M20,0h1v1h-1z\" fill=\"#75AED2\" fill-opacity=\"1\" />\n",
       "<path d=\"M22,.46V1h-1V.54z\" fill=\"#7BB2D4\" />\n",
       "<path d=\"M21,0h1v1h-1z\" fill=\"#7BB2D4\" fill-opacity=\"1\" />\n",
       "<path d=\"M23,.46V1h-1V.54z\" fill=\"#80B7D6\" />\n",
       "<path d=\"M22,0h1v1h-1z\" fill=\"#80B7D6\" fill-opacity=\"1\" />\n",
       "<path d=\"M24,.46V1h-1V.54z\" fill=\"#86BBD9\" />\n",
       "<path d=\"M23,0h1v1h-1z\" fill=\"#86BBD9\" fill-opacity=\"1\" />\n",
       "<path d=\"M25,.46V1h-1V.54z\" fill=\"#8BC0DB\" />\n",
       "<path d=\"M24,0h1v1h-1z\" fill=\"#8BC0DB\" fill-opacity=\"1\" />\n",
       "<path d=\"M26,.46V1h-1V.54z\" fill=\"#91C4DE\" />\n",
       "<path d=\"M25,0h1v1h-1z\" fill=\"#91C4DE\" fill-opacity=\"1\" />\n",
       "<path d=\"M27,.46V1h-1V.54z\" fill=\"#97C9E0\" />\n",
       "<path d=\"M26,0h1v1h-1z\" fill=\"#97C9E0\" fill-opacity=\"1\" />\n",
       "<path d=\"M28,.46V1h-1V.54z\" fill=\"#9CCDE3\" />\n",
       "<path d=\"M27,0h1v1h-1z\" fill=\"#9CCDE3\" fill-opacity=\"1\" />\n",
       "<path d=\"M29,.46V1h-1V.54z\" fill=\"#A2D1E5\" />\n",
       "<path d=\"M28,0h1v1h-1z\" fill=\"#A2D1E5\" fill-opacity=\"1\" />\n",
       "<path d=\"M30,.46V1h-1V.54z\" fill=\"#A7D6E7\" />\n",
       "<path d=\"M29,0h1v1h-1z\" fill=\"#A7D6E7\" fill-opacity=\"1\" />\n",
       "<path d=\"M31,.46V1h-1V.54z\" fill=\"#ADDAEA\" />\n",
       "<path d=\"M30,0h1v1h-1z\" fill=\"#ADDAEA\" fill-opacity=\"1\" />\n",
       "<path d=\"M32,.46V1h-1V.54z\" fill=\"#B2DCEB\" />\n",
       "<path d=\"M31,0h1v1h-1z\" fill=\"#B2DCEB\" fill-opacity=\"1\" />\n",
       "<path d=\"M33,.46V1h-1V.54z\" fill=\"#B7DFED\" />\n",
       "<path d=\"M32,0h1v1h-1z\" fill=\"#B7DFED\" fill-opacity=\"1\" />\n",
       "<path d=\"M34,.46V1h-1V.54z\" fill=\"#BDE2EE\" />\n",
       "<path d=\"M33,0h1v1h-1z\" fill=\"#BDE2EE\" fill-opacity=\"1\" />\n",
       "<path d=\"M35,.46V1h-1V.54z\" fill=\"#C2E4F0\" />\n",
       "<path d=\"M34,0h1v1h-1z\" fill=\"#C2E4F0\" fill-opacity=\"1\" />\n",
       "<path d=\"M36,.46V1h-1V.54z\" fill=\"#C7E7F1\" />\n",
       "<path d=\"M35,0h1v1h-1z\" fill=\"#C7E7F1\" fill-opacity=\"1\" />\n",
       "<path d=\"M37,.46V1h-1V.54z\" fill=\"#CDEAF3\" />\n",
       "<path d=\"M36,0h1v1h-1z\" fill=\"#CDEAF3\" fill-opacity=\"1\" />\n",
       "<path d=\"M38,.46V1h-1V.54z\" fill=\"#D2ECF4\" />\n",
       "<path d=\"M37,0h1v1h-1z\" fill=\"#D2ECF4\" fill-opacity=\"1\" />\n",
       "<path d=\"M39,.46V1h-1V.54z\" fill=\"#D7EFF6\" />\n",
       "<path d=\"M38,0h1v1h-1z\" fill=\"#D7EFF6\" fill-opacity=\"1\" />\n",
       "<path d=\"M40,.46V1h-1V.54z\" fill=\"#DDF1F7\" />\n",
       "<path d=\"M39,0h1v1h-1z\" fill=\"#DDF1F7\" fill-opacity=\"1\" />\n",
       "<path d=\"M41,.46V1h-1V.54z\" fill=\"#E1F3F6\" />\n",
       "<path d=\"M40,0h1v1h-1z\" fill=\"#E1F3F6\" fill-opacity=\"1\" />\n",
       "<path d=\"M42,.46V1h-1V.54z\" fill=\"#E4F5F0\" />\n",
       "<path d=\"M41,0h1v1h-1z\" fill=\"#E4F5F0\" fill-opacity=\"1\" />\n",
       "<path d=\"M43,.46V1h-1V.54z\" fill=\"#E7F6EA\" />\n",
       "<path d=\"M42,0h1v1h-1z\" fill=\"#E7F6EA\" fill-opacity=\"1\" />\n",
       "<path d=\"M44,.46V1h-1V.54z\" fill=\"#EBF7E4\" />\n",
       "<path d=\"M43,0h1v1h-1z\" fill=\"#EBF7E4\" fill-opacity=\"1\" />\n",
       "<path d=\"M45,.46V1h-1V.54z\" fill=\"#EEF8DF\" />\n",
       "<path d=\"M44,0h1v1h-1z\" fill=\"#EEF8DF\" fill-opacity=\"1\" />\n",
       "<path d=\"M46,.46V1h-1V.54z\" fill=\"#F1FAD9\" />\n",
       "<path d=\"M45,0h1v1h-1z\" fill=\"#F1FAD9\" fill-opacity=\"1\" />\n",
       "<path d=\"M47,.46V1h-1V.54z\" fill=\"#F4FBD3\" />\n",
       "<path d=\"M46,0h1v1h-1z\" fill=\"#F4FBD3\" fill-opacity=\"1\" />\n",
       "<path d=\"M48,.46V1h-1V.54z\" fill=\"#F7FCCD\" />\n",
       "<path d=\"M47,0h1v1h-1z\" fill=\"#F7FCCD\" fill-opacity=\"1\" />\n",
       "<path d=\"M49,.46V1h-1V.54z\" fill=\"#FAFDC8\" />\n",
       "<path d=\"M48,0h1v1h-1z\" fill=\"#FAFDC8\" fill-opacity=\"1\" />\n",
       "<path d=\"M50,.46V1h-1V.54z\" fill=\"#FDFEC2\" />\n",
       "<path d=\"M49,0h1v1h-1z\" fill=\"#FDFEC2\" fill-opacity=\"1\" />\n",
       "<path d=\"M51,.46V1h-1V.54z\" fill=\"#FFFDBD\" />\n",
       "<path d=\"M50,0h1v1h-1z\" fill=\"#FFFDBD\" fill-opacity=\"1\" />\n",
       "<path d=\"M52,.46V1h-1V.54z\" fill=\"#FFFAB8\" />\n",
       "<path d=\"M51,0h1v1h-1z\" fill=\"#FFFAB8\" fill-opacity=\"1\" />\n",
       "<path d=\"M53,.46V1h-1V.54z\" fill=\"#FFF7B3\" />\n",
       "<path d=\"M52,0h1v1h-1z\" fill=\"#FFF7B3\" fill-opacity=\"1\" />\n",
       "<path d=\"M54,.46V1h-1V.54z\" fill=\"#FFF4AE\" />\n",
       "<path d=\"M53,0h1v1h-1z\" fill=\"#FFF4AE\" fill-opacity=\"1\" />\n",
       "<path d=\"M55,.46V1h-1V.54z\" fill=\"#FFF1AA\" />\n",
       "<path d=\"M54,0h1v1h-1z\" fill=\"#FFF1AA\" fill-opacity=\"1\" />\n",
       "<path d=\"M56,.46V1h-1V.54z\" fill=\"#FEEEA5\" />\n",
       "<path d=\"M55,0h1v1h-1z\" fill=\"#FEEEA5\" fill-opacity=\"1\" />\n",
       "<path d=\"M57,.46V1h-1V.54z\" fill=\"#FEEBA0\" />\n",
       "<path d=\"M56,0h1v1h-1z\" fill=\"#FEEBA0\" fill-opacity=\"1\" />\n",
       "<path d=\"M58,.46V1h-1V.54z\" fill=\"#FEE79B\" />\n",
       "<path d=\"M57,0h1v1h-1z\" fill=\"#FEE79B\" fill-opacity=\"1\" />\n",
       "<path d=\"M59,.46V1h-1V.54z\" fill=\"#FEE497\" />\n",
       "<path d=\"M58,0h1v1h-1z\" fill=\"#FEE497\" fill-opacity=\"1\" />\n",
       "<path d=\"M60,.46V1h-1V.54z\" fill=\"#FEE192\" />\n",
       "<path d=\"M59,0h1v1h-1z\" fill=\"#FEE192\" fill-opacity=\"1\" />\n",
       "<path d=\"M61,.46V1h-1V.54z\" fill=\"#FEDD8D\" />\n",
       "<path d=\"M60,0h1v1h-1z\" fill=\"#FEDD8D\" fill-opacity=\"1\" />\n",
       "<path d=\"M62,.46V1h-1V.54z\" fill=\"#FED888\" />\n",
       "<path d=\"M61,0h1v1h-1z\" fill=\"#FED888\" fill-opacity=\"1\" />\n",
       "<path d=\"M63,.46V1h-1V.54z\" fill=\"#FED384\" />\n",
       "<path d=\"M62,0h1v1h-1z\" fill=\"#FED384\" fill-opacity=\"1\" />\n",
       "<path d=\"M64,.46V1h-1V.54z\" fill=\"#FECE7F\" />\n",
       "<path d=\"M63,0h1v1h-1z\" fill=\"#FECE7F\" fill-opacity=\"1\" />\n",
       "<path d=\"M65,.46V1h-1V.54z\" fill=\"#FEC97A\" />\n",
       "<path d=\"M64,0h1v1h-1z\" fill=\"#FEC97A\" fill-opacity=\"1\" />\n",
       "<path d=\"M66,.46V1h-1V.54z\" fill=\"#FDC475\" />\n",
       "<path d=\"M65,0h1v1h-1z\" fill=\"#FDC475\" fill-opacity=\"1\" />\n",
       "<path d=\"M67,.46V1h-1V.54z\" fill=\"#FDBF71\" />\n",
       "<path d=\"M66,0h1v1h-1z\" fill=\"#FDBF71\" fill-opacity=\"1\" />\n",
       "<path d=\"M68,.46V1h-1V.54z\" fill=\"#FDBA6C\" />\n",
       "<path d=\"M67,0h1v1h-1z\" fill=\"#FDBA6C\" fill-opacity=\"1\" />\n",
       "<path d=\"M69,.46V1h-1V.54z\" fill=\"#FDB467\" />\n",
       "<path d=\"M68,0h1v1h-1z\" fill=\"#FDB467\" fill-opacity=\"1\" />\n",
       "<path d=\"M70,.46V1h-1V.54z\" fill=\"#FDAF62\" />\n",
       "<path d=\"M69,0h1v1h-1z\" fill=\"#FDAF62\" fill-opacity=\"1\" />\n",
       "<path d=\"M71,.46V1h-1V.54z\" fill=\"#FCA95F\" />\n",
       "<path d=\"M70,0h1v1h-1z\" fill=\"#FCA95F\" fill-opacity=\"1\" />\n",
       "<path d=\"M72,.46V1h-1V.54z\" fill=\"#FBA35C\" />\n",
       "<path d=\"M71,0h1v1h-1z\" fill=\"#FBA35C\" fill-opacity=\"1\" />\n",
       "<path d=\"M73,.46V1h-1V.54z\" fill=\"#FB9C59\" />\n",
       "<path d=\"M72,0h1v1h-1z\" fill=\"#FB9C59\" fill-opacity=\"1\" />\n",
       "<path d=\"M74,.46V1h-1V.54z\" fill=\"#FA9656\" />\n",
       "<path d=\"M73,0h1v1h-1z\" fill=\"#FA9656\" fill-opacity=\"1\" />\n",
       "<path d=\"M75,.46V1h-1V.54z\" fill=\"#F98F53\" />\n",
       "<path d=\"M74,0h1v1h-1z\" fill=\"#F98F53\" fill-opacity=\"1\" />\n",
       "<path d=\"M76,.46V1h-1V.54z\" fill=\"#F88850\" />\n",
       "<path d=\"M75,0h1v1h-1z\" fill=\"#F88850\" fill-opacity=\"1\" />\n",
       "<path d=\"M77,.46V1h-1V.54z\" fill=\"#F7824D\" />\n",
       "<path d=\"M76,0h1v1h-1z\" fill=\"#F7824D\" fill-opacity=\"1\" />\n",
       "<path d=\"M78,.46V1h-1V.54z\" fill=\"#F67B4A\" />\n",
       "<path d=\"M77,0h1v1h-1z\" fill=\"#F67B4A\" fill-opacity=\"1\" />\n",
       "<path d=\"M79,.46V1h-1V.54z\" fill=\"#F57547\" />\n",
       "<path d=\"M78,0h1v1h-1z\" fill=\"#F57547\" fill-opacity=\"1\" />\n",
       "<path d=\"M80,.46V1h-1V.54z\" fill=\"#F46E44\" />\n",
       "<path d=\"M79,0h1v1h-1z\" fill=\"#F46E44\" fill-opacity=\"1\" />\n",
       "<path d=\"M81,.46V1h-1V.54z\" fill=\"#F26841\" />\n",
       "<path d=\"M80,0h1v1h-1z\" fill=\"#F26841\" fill-opacity=\"1\" />\n",
       "<path d=\"M82,.46V1h-1V.54z\" fill=\"#EF623E\" />\n",
       "<path d=\"M81,0h1v1h-1z\" fill=\"#EF623E\" fill-opacity=\"1\" />\n",
       "<path d=\"M83,.46V1h-1V.54z\" fill=\"#EC5C3B\" />\n",
       "<path d=\"M82,0h1v1h-1z\" fill=\"#EC5C3B\" fill-opacity=\"1\" />\n",
       "<path d=\"M84,.46V1h-1V.54z\" fill=\"#E95538\" />\n",
       "<path d=\"M83,0h1v1h-1z\" fill=\"#E95538\" fill-opacity=\"1\" />\n",
       "<path d=\"M85,.46V1h-1V.54z\" fill=\"#E64F35\" />\n",
       "<path d=\"M84,0h1v1h-1z\" fill=\"#E64F35\" fill-opacity=\"1\" />\n",
       "<path d=\"M86,.46V1h-1V.54z\" fill=\"#E34933\" />\n",
       "<path d=\"M85,0h1v1h-1z\" fill=\"#E34933\" fill-opacity=\"1\" />\n",
       "<path d=\"M87,.46V1h-1V.54z\" fill=\"#E04330\" />\n",
       "<path d=\"M86,0h1v1h-1z\" fill=\"#E04330\" fill-opacity=\"1\" />\n",
       "<path d=\"M88,.46V1h-1V.54z\" fill=\"#DD3D2D\" />\n",
       "<path d=\"M87,0h1v1h-1z\" fill=\"#DD3D2D\" fill-opacity=\"1\" />\n",
       "<path d=\"M89,.46V1h-1V.54z\" fill=\"#DA372A\" />\n",
       "<path d=\"M88,0h1v1h-1z\" fill=\"#DA372A\" fill-opacity=\"1\" />\n",
       "<path d=\"M90,.46V1h-1V.54z\" fill=\"#D73127\" />\n",
       "<path d=\"M89,0h1v1h-1z\" fill=\"#D73127\" fill-opacity=\"1\" />\n",
       "<path d=\"M91,.46V1h-1V.54z\" fill=\"#D22C27\" />\n",
       "<path d=\"M90,0h1v1h-1z\" fill=\"#D22C27\" fill-opacity=\"1\" />\n",
       "<path d=\"M92,.46V1h-1V.54z\" fill=\"#CD2727\" />\n",
       "<path d=\"M91,0h1v1h-1z\" fill=\"#CD2727\" fill-opacity=\"1\" />\n",
       "<path d=\"M93,.46V1h-1V.54z\" fill=\"#C82227\" />\n",
       "<path d=\"M92,0h1v1h-1z\" fill=\"#C82227\" fill-opacity=\"1\" />\n",
       "<path d=\"M94,.46V1h-1V.54z\" fill=\"#C31D27\" />\n",
       "<path d=\"M93,0h1v1h-1z\" fill=\"#C31D27\" fill-opacity=\"1\" />\n",
       "<path d=\"M95,.46V1h-1V.54z\" fill=\"#BE1827\" />\n",
       "<path d=\"M94,0h1v1h-1z\" fill=\"#BE1827\" fill-opacity=\"1\" />\n",
       "<path d=\"M96,.46V1h-1V.54z\" fill=\"#B91326\" />\n",
       "<path d=\"M95,0h1v1h-1z\" fill=\"#B91326\" fill-opacity=\"1\" />\n",
       "<path d=\"M97,.46V1h-1V.54z\" fill=\"#B40F26\" />\n",
       "<path d=\"M96,0h1v1h-1z\" fill=\"#B40F26\" fill-opacity=\"1\" />\n",
       "<path d=\"M98,.46V1h-1V.54z\" fill=\"#AF0A26\" />\n",
       "<path d=\"M97,0h1v1h-1z\" fill=\"#AF0A26\" fill-opacity=\"1\" />\n",
       "<path d=\"M99,.46V1h-1V.54z\" fill=\"#AA0526\" />\n",
       "<path d=\"M98,0h1v1h-1z\" fill=\"#AA0526\" fill-opacity=\"1\" />\n",
       "<path d=\"M100,.46V1h-1V.54z\" fill=\"#A50026\" />\n",
       "<path d=\"M99,0h1v1h-1z\" fill=\"#A50026\" fill-opacity=\"1\" />\n",
       "</svg>"
      ],
      "text/plain": [
       "PlotUtils.ContinuousColorGradient(ColorScheme{Vector{RGBA{Float64}}, String, String}(RGBA{Float64}[RGBA{Float64}(0.192,0.212,0.584,1.0), RGBA{Float64}(0.271,0.459,0.706,1.0), RGBA{Float64}(0.455,0.678,0.82,1.0), RGBA{Float64}(0.671,0.851,0.914,1.0), RGBA{Float64}(0.878,0.953,0.973,1.0), RGBA{Float64}(1.0,1.0,0.749,1.0), RGBA{Float64}(0.996,0.878,0.565,1.0), RGBA{Float64}(0.992,0.682,0.38,1.0), RGBA{Float64}(0.957,0.427,0.263,1.0), RGBA{Float64}(0.843,0.188,0.153,1.0), RGBA{Float64}(0.647,0.0,0.149,1.0)], \"\", \"\"), [0.0, 0.1, 0.2, 0.3, 0.4, 0.5, 0.6, 0.7, 0.8, 0.9, 1.0])"
      ]
     },
     "execution_count": 17,
     "metadata": {},
     "output_type": "execute_result"
    }
   ],
   "source": [
    "varname = \"Water_body_phosphate\"\n",
    "depth2plot = 100\n",
    "month2plot = 10\n",
    "cmap = cgrad(:RdYlBu, rev = true)"
   ]
  },
  {
   "cell_type": "markdown",
   "id": "92221204-4906-4f75-a087-5bcfed2feb67",
   "metadata": {},
   "source": [
    "## Files and directories"
   ]
  },
  {
   "cell_type": "code",
   "execution_count": 18,
   "id": "604c4626-946a-4ae4-8cc0-e93fb639cf1d",
   "metadata": {},
   "outputs": [
    {
     "data": {
      "text/plain": [
       "(true, true)"
      ]
     },
     "execution_count": 18,
     "metadata": {},
     "output_type": "execute_result"
    }
   ],
   "source": [
    "databasedir = \"/home/ctroupin/data/EMODnet-Chemistry/Eutrophication2024/Results/\"\n",
    "datadir = joinpath(databasedir, \"../netCDF\")\n",
    "casename = \"$(varname)-res-0.25-epsilon2-2.0-varlen1-lb5-maxit-5000-reltol-1.0e-9-bathcl-go-exclude-mL-1960-exNS2-monthly\"\n",
    "resultfile = joinpath(databasedir, casename, \"Results/$(varname)_monthly.nc\")\n",
    "isfile(resultfile), isdir(datadir)"
   ]
  },
  {
   "cell_type": "code",
   "execution_count": 19,
   "id": "20ba9cc3-2d88-4299-8b84-5417f2c4b032",
   "metadata": {},
   "outputs": [],
   "source": [
    "lon, lat, depth, dates, field, error =\n",
    "    read_results(resultfile, varname, depth2plot, month2plot);"
   ]
  },
  {
   "cell_type": "markdown",
   "id": "08d4fb9c-a00f-4ce0-8229-c597e339e365",
   "metadata": {},
   "source": [
    "## WOA fields"
   ]
  },
  {
   "cell_type": "code",
   "execution_count": 20,
   "id": "44681094-9559-4c50-aafb-4d67149b9a7c",
   "metadata": {},
   "outputs": [
    {
     "data": {
      "text/plain": [
       "(Float32[-44.5, -43.5, -42.5, -41.5, -40.5, -39.5, -38.5, -37.5, -36.5, -35.5  …  60.5, 61.5, 62.5, 63.5, 64.5, 65.5, 66.5, 67.5, 68.5, 69.5], Float32[24.5, 25.5, 26.5, 27.5, 28.5, 29.5, 30.5, 31.5, 32.5, 33.5  …  73.5, 74.5, 75.5, 76.5, 77.5, 78.5, 79.5, 80.5, 81.5, 82.5], Float32[0.0, 5.0, 10.0, 15.0, 20.0, 25.0, 30.0, 35.0, 40.0, 45.0  …  425.0, 450.0, 475.0, 500.0, 550.0, 600.0, 650.0, 700.0, 750.0, 800.0], [DateTime(\"1993-10-16T22:21:33.610\")], AbstractFloat[0.0647345f0 0.06553151f0 … NaN NaN; 0.06581503f0 0.06603334f0 … NaN NaN; … ; NaN NaN … 0.7360439f0 0.69386774f0; NaN NaN … 0.7226594f0 0.6808049f0], AbstractFloat[NaN NaN … NaN NaN; NaN NaN … NaN NaN; … ; NaN NaN … NaN NaN; NaN NaN … NaN NaN])"
      ]
     },
     "execution_count": 20,
     "metadata": {},
     "output_type": "execute_result"
    }
   ],
   "source": [
    "woafile = joinpath(woadir, \"woa23_all_p$(lpad(month2plot, 2, '0'))_01.nc\")\n",
    "if isfile(woafile)\n",
    "    lonwoa, latwoa, depthwoa, dateswoa, fieldwoa, errorwoa =\n",
    "        read_woa(woafile, varname, depth2plot, lonr, latr)\n",
    "else\n",
    "    @warn(\"$(woafile) does not exist\")\n",
    "end"
   ]
  },
  {
   "cell_type": "markdown",
   "id": "3713b26b-d563-4416-8fdc-575de8d03a78",
   "metadata": {},
   "source": [
    "## Make the plots\n",
    "### DIVAnd"
   ]
  },
  {
   "cell_type": "code",
   "execution_count": 21,
   "id": "633697ae-88c3-4448-b51e-6216732916c5",
   "metadata": {},
   "outputs": [
    {
     "data": {
      "text/plain": [
       "CairoMakie.Screen{IMAGE}\n"
      ]
     },
     "execution_count": 21,
     "metadata": {},
     "output_type": "execute_result"
    }
   ],
   "source": [
    "f1 = plot_field_var(varname, lon, lat, field, depth2plot, month2plot, \"DIVAnd\", cmap)\n",
    "save(joinpath(figdir, \"$(varname)_depth-$(depth2plot)_month-$(month2plot)_DIVAnd.png\"), f1)"
   ]
  },
  {
   "cell_type": "markdown",
   "id": "5175bd7d-3154-4f27-805e-6fd1b5640157",
   "metadata": {},
   "source": [
    "### WOA"
   ]
  },
  {
   "cell_type": "code",
   "execution_count": 22,
   "id": "4493aee6-2a4e-4abf-b746-614241f4229f",
   "metadata": {},
   "outputs": [
    {
     "data": {
      "text/plain": [
       "CairoMakie.Screen{IMAGE}\n"
      ]
     },
     "execution_count": 22,
     "metadata": {},
     "output_type": "execute_result"
    }
   ],
   "source": [
    "f2 = plot_field_var(varname, lonwoa, latwoa, fieldwoa, depth2plot, month2plot, \"WOA\", cmap)\n",
    "save(joinpath(figdir, \"$(varname)_depth-$(depth2plot)_month-$(month2plot)_WOA.png\"), f2)"
   ]
  },
  {
   "cell_type": "code",
   "execution_count": null,
   "id": "5bf00d1d-d6ea-4d3b-9375-57baf92a0714",
   "metadata": {},
   "outputs": [],
   "source": []
  }
 ],
 "metadata": {
  "kernelspec": {
   "display_name": "Julia 1.11.3",
   "language": "julia",
   "name": "julia-1.11"
  },
  "language_info": {
   "file_extension": ".jl",
   "mimetype": "application/julia",
   "name": "julia",
   "version": "1.11.3"
  }
 },
 "nbformat": 4,
 "nbformat_minor": 5
}
