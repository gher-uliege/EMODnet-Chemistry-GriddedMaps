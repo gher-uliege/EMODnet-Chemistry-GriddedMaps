{
 "cells": [
  {
   "cell_type": "markdown",
   "id": "46f9ec0a-bdb7-483b-9415-61dcc53a1ce3",
   "metadata": {},
   "source": [
    "# Plot results\n",
    "Plot the gridded fields and the associated error fields."
   ]
  },
  {
   "cell_type": "code",
   "execution_count": 41,
   "id": "71f50253-c7ea-4a74-9cc6-256095390175",
   "metadata": {},
   "outputs": [
    {
     "name": "stderr",
     "output_type": "stream",
     "text": [
      "\u001b[32m\u001b[1m  Activating\u001b[22m\u001b[39m project at `~/Projects/EMODnet-Chemistry-GriddedMaps/src`\n",
      "\u001b[32m\u001b[1m   Resolving\u001b[22m\u001b[39m package versions...\n",
      "\u001b[32m\u001b[1m  No Changes\u001b[22m\u001b[39m to `~/Projects/EMODnet-Chemistry-GriddedMaps/src/Project.toml`\n",
      "\u001b[32m\u001b[1m  No Changes\u001b[22m\u001b[39m to `~/Projects/EMODnet-Chemistry-GriddedMaps/src/Manifest.toml`\n"
     ]
    },
    {
     "data": {
      "text/plain": [
       "2-element Vector{Function}:\n",
       " format_current_cell (generic function with 1 method)\n",
       " format_current_cell (generic function with 1 method)"
      ]
     },
     "execution_count": 41,
     "metadata": {},
     "output_type": "execute_result"
    }
   ],
   "source": [
    "using Pkg\n",
    "Pkg.activate(\".\")\n",
    "Pkg.add(Pkg.PackageSpec(; name = \"GeoMakie\", version = \"0.7.12\"))\n",
    "using Glob\n",
    "using Dates\n",
    "using ColorSchemes\n",
    "using NCDatasets\n",
    "using CairoMakie, GeoMakie\n",
    "using GeoDatasets\n",
    "using GeometryOps, GeoInterface\n",
    "include(\"./config.jl\")\n",
    "using JupyterFormatter\n",
    "enable_autoformat()"
   ]
  },
  {
   "cell_type": "markdown",
   "id": "fc5b3a8b-24dc-462c-b247-9c812ab04eca",
   "metadata": {},
   "source": [
    "### Select variable, month and vertical level (depth)\n",
    "- Water_body_ammonium\n",
    "- Water_body_chlorophyll-a\n",
    "- Water_body_dissolved_inorganic_nitrogen\n",
    "- Water_body_dissolved_oxygen_concentration\n",
    "- Water_body_phosphate\n",
    "- Water_body_silicate"
   ]
  },
  {
   "cell_type": "code",
   "execution_count": 47,
   "id": "0b342fe9-67c8-417c-aa68-0a1b39f40a96",
   "metadata": {},
   "outputs": [
    {
     "data": {
      "image/svg+xml": [
       "<?xml version=\"1.0\" encoding=\"UTF-8\"?>\n",
       "<!DOCTYPE svg PUBLIC \"-//W3C//DTD SVG 1.1//EN\"\n",
       " \"http://www.w3.org/Graphics/SVG/1.1/DTD/svg11.dtd\">\n",
       "<svg xmlns=\"http://www.w3.org/2000/svg\" version=\"1.1\"\n",
       "     width=\"180mm\" height=\"25mm\" viewBox=\"0 0 100 1\" stroke=\"none\"\n",
       "     preserveAspectRatio=\"none\" shape-rendering=\"crispEdges\">\n",
       "<defs>\n",
       "    <pattern id=\"pat_3RBgmN\" width=\".2\" height=\".2\"\n",
       "             patternUnits=\"userSpaceOnUse\" patternTransform=\"scale(13.889,1)\" >\n",
       "        <path d=\"M.1,0h.1v.1h-.2v.1h.1z\" fill=\"#999\" opacity=\".5\" />\n",
       "    </pattern>\n",
       "</defs>\n",
       "<rect width=\"100\" height=\"1\" fill=\"url(#pat_3RBgmN)\" />\n",
       "<path d=\"M1,.46V1h-1V.54z\" fill=\"#006837\" />\n",
       "<path d=\"M0,0h1v1h-1z\" fill=\"#006837\" fill-opacity=\"1\" />\n",
       "<path d=\"M2,.46V1h-1V.54z\" fill=\"#006837\" />\n",
       "<path d=\"M1,0h1v1h-1z\" fill=\"#006837\" fill-opacity=\"1\" />\n",
       "<path d=\"M3,.46V1h-1V.54z\" fill=\"#006837\" />\n",
       "<path d=\"M2,0h1v1h-1z\" fill=\"#006837\" fill-opacity=\"1\" />\n",
       "<path d=\"M4,.46V1h-1V.54z\" fill=\"#006837\" />\n",
       "<path d=\"M3,0h1v1h-1z\" fill=\"#006837\" fill-opacity=\"1\" />\n",
       "<path d=\"M5,.46V1h-1V.54z\" fill=\"#006837\" />\n",
       "<path d=\"M4,0h1v1h-1z\" fill=\"#006837\" fill-opacity=\"1\" />\n",
       "<path d=\"M6,.46V1h-1V.54z\" fill=\"#006837\" />\n",
       "<path d=\"M5,0h1v1h-1z\" fill=\"#006837\" fill-opacity=\"1\" />\n",
       "<path d=\"M7,.46V1h-1V.54z\" fill=\"#006837\" />\n",
       "<path d=\"M6,0h1v1h-1z\" fill=\"#006837\" fill-opacity=\"1\" />\n",
       "<path d=\"M8,.46V1h-1V.54z\" fill=\"#006837\" />\n",
       "<path d=\"M7,0h1v1h-1z\" fill=\"#006837\" fill-opacity=\"1\" />\n",
       "<path d=\"M9,.46V1h-1V.54z\" fill=\"#006837\" />\n",
       "<path d=\"M8,0h1v1h-1z\" fill=\"#006837\" fill-opacity=\"1\" />\n",
       "<path d=\"M10,.46V1h-1V.54z\" fill=\"#006837\" />\n",
       "<path d=\"M9,0h1v1h-1z\" fill=\"#006837\" fill-opacity=\"1\" />\n",
       "<path d=\"M11,.46V1h-1V.54z\" fill=\"#1A9850\" />\n",
       "<path d=\"M10,0h1v1h-1z\" fill=\"#1A9850\" fill-opacity=\"1\" />\n",
       "<path d=\"M12,.46V1h-1V.54z\" fill=\"#1A9850\" />\n",
       "<path d=\"M11,0h1v1h-1z\" fill=\"#1A9850\" fill-opacity=\"1\" />\n",
       "<path d=\"M13,.46V1h-1V.54z\" fill=\"#1A9850\" />\n",
       "<path d=\"M12,0h1v1h-1z\" fill=\"#1A9850\" fill-opacity=\"1\" />\n",
       "<path d=\"M14,.46V1h-1V.54z\" fill=\"#1A9850\" />\n",
       "<path d=\"M13,0h1v1h-1z\" fill=\"#1A9850\" fill-opacity=\"1\" />\n",
       "<path d=\"M15,.46V1h-1V.54z\" fill=\"#1A9850\" />\n",
       "<path d=\"M14,0h1v1h-1z\" fill=\"#1A9850\" fill-opacity=\"1\" />\n",
       "<path d=\"M16,.46V1h-1V.54z\" fill=\"#1A9850\" />\n",
       "<path d=\"M15,0h1v1h-1z\" fill=\"#1A9850\" fill-opacity=\"1\" />\n",
       "<path d=\"M17,.46V1h-1V.54z\" fill=\"#1A9850\" />\n",
       "<path d=\"M16,0h1v1h-1z\" fill=\"#1A9850\" fill-opacity=\"1\" />\n",
       "<path d=\"M18,.46V1h-1V.54z\" fill=\"#1A9850\" />\n",
       "<path d=\"M17,0h1v1h-1z\" fill=\"#1A9850\" fill-opacity=\"1\" />\n",
       "<path d=\"M19,.46V1h-1V.54z\" fill=\"#1A9850\" />\n",
       "<path d=\"M18,0h1v1h-1z\" fill=\"#1A9850\" fill-opacity=\"1\" />\n",
       "<path d=\"M20,.46V1h-1V.54z\" fill=\"#1A9850\" />\n",
       "<path d=\"M19,0h1v1h-1z\" fill=\"#1A9850\" fill-opacity=\"1\" />\n",
       "<path d=\"M21,.46V1h-1V.54z\" fill=\"#66BD63\" />\n",
       "<path d=\"M20,0h1v1h-1z\" fill=\"#66BD63\" fill-opacity=\"1\" />\n",
       "<path d=\"M22,.46V1h-1V.54z\" fill=\"#66BD63\" />\n",
       "<path d=\"M21,0h1v1h-1z\" fill=\"#66BD63\" fill-opacity=\"1\" />\n",
       "<path d=\"M23,.46V1h-1V.54z\" fill=\"#66BD63\" />\n",
       "<path d=\"M22,0h1v1h-1z\" fill=\"#66BD63\" fill-opacity=\"1\" />\n",
       "<path d=\"M24,.46V1h-1V.54z\" fill=\"#66BD63\" />\n",
       "<path d=\"M23,0h1v1h-1z\" fill=\"#66BD63\" fill-opacity=\"1\" />\n",
       "<path d=\"M25,.46V1h-1V.54z\" fill=\"#66BD63\" />\n",
       "<path d=\"M24,0h1v1h-1z\" fill=\"#66BD63\" fill-opacity=\"1\" />\n",
       "<path d=\"M26,.46V1h-1V.54z\" fill=\"#66BD63\" />\n",
       "<path d=\"M25,0h1v1h-1z\" fill=\"#66BD63\" fill-opacity=\"1\" />\n",
       "<path d=\"M27,.46V1h-1V.54z\" fill=\"#66BD63\" />\n",
       "<path d=\"M26,0h1v1h-1z\" fill=\"#66BD63\" fill-opacity=\"1\" />\n",
       "<path d=\"M28,.46V1h-1V.54z\" fill=\"#66BD63\" />\n",
       "<path d=\"M27,0h1v1h-1z\" fill=\"#66BD63\" fill-opacity=\"1\" />\n",
       "<path d=\"M29,.46V1h-1V.54z\" fill=\"#66BD63\" />\n",
       "<path d=\"M28,0h1v1h-1z\" fill=\"#66BD63\" fill-opacity=\"1\" />\n",
       "<path d=\"M30,.46V1h-1V.54z\" fill=\"#66BD63\" />\n",
       "<path d=\"M29,0h1v1h-1z\" fill=\"#66BD63\" fill-opacity=\"1\" />\n",
       "<path d=\"M31,.46V1h-1V.54z\" fill=\"#A6D96A\" />\n",
       "<path d=\"M30,0h1v1h-1z\" fill=\"#A6D96A\" fill-opacity=\"1\" />\n",
       "<path d=\"M32,.46V1h-1V.54z\" fill=\"#A6D96A\" />\n",
       "<path d=\"M31,0h1v1h-1z\" fill=\"#A6D96A\" fill-opacity=\"1\" />\n",
       "<path d=\"M33,.46V1h-1V.54z\" fill=\"#A6D96A\" />\n",
       "<path d=\"M32,0h1v1h-1z\" fill=\"#A6D96A\" fill-opacity=\"1\" />\n",
       "<path d=\"M34,.46V1h-1V.54z\" fill=\"#A6D96A\" />\n",
       "<path d=\"M33,0h1v1h-1z\" fill=\"#A6D96A\" fill-opacity=\"1\" />\n",
       "<path d=\"M35,.46V1h-1V.54z\" fill=\"#A6D96A\" />\n",
       "<path d=\"M34,0h1v1h-1z\" fill=\"#A6D96A\" fill-opacity=\"1\" />\n",
       "<path d=\"M36,.46V1h-1V.54z\" fill=\"#A6D96A\" />\n",
       "<path d=\"M35,0h1v1h-1z\" fill=\"#A6D96A\" fill-opacity=\"1\" />\n",
       "<path d=\"M37,.46V1h-1V.54z\" fill=\"#A6D96A\" />\n",
       "<path d=\"M36,0h1v1h-1z\" fill=\"#A6D96A\" fill-opacity=\"1\" />\n",
       "<path d=\"M38,.46V1h-1V.54z\" fill=\"#A6D96A\" />\n",
       "<path d=\"M37,0h1v1h-1z\" fill=\"#A6D96A\" fill-opacity=\"1\" />\n",
       "<path d=\"M39,.46V1h-1V.54z\" fill=\"#A6D96A\" />\n",
       "<path d=\"M38,0h1v1h-1z\" fill=\"#A6D96A\" fill-opacity=\"1\" />\n",
       "<path d=\"M40,.46V1h-1V.54z\" fill=\"#A6D96A\" />\n",
       "<path d=\"M39,0h1v1h-1z\" fill=\"#A6D96A\" fill-opacity=\"1\" />\n",
       "<path d=\"M41,.46V1h-1V.54z\" fill=\"#D9EF8B\" />\n",
       "<path d=\"M40,0h1v1h-1z\" fill=\"#D9EF8B\" fill-opacity=\"1\" />\n",
       "<path d=\"M42,.46V1h-1V.54z\" fill=\"#D9EF8B\" />\n",
       "<path d=\"M41,0h1v1h-1z\" fill=\"#D9EF8B\" fill-opacity=\"1\" />\n",
       "<path d=\"M43,.46V1h-1V.54z\" fill=\"#D9EF8B\" />\n",
       "<path d=\"M42,0h1v1h-1z\" fill=\"#D9EF8B\" fill-opacity=\"1\" />\n",
       "<path d=\"M44,.46V1h-1V.54z\" fill=\"#D9EF8B\" />\n",
       "<path d=\"M43,0h1v1h-1z\" fill=\"#D9EF8B\" fill-opacity=\"1\" />\n",
       "<path d=\"M45,.46V1h-1V.54z\" fill=\"#D9EF8B\" />\n",
       "<path d=\"M44,0h1v1h-1z\" fill=\"#D9EF8B\" fill-opacity=\"1\" />\n",
       "<path d=\"M46,.46V1h-1V.54z\" fill=\"#D9EF8B\" />\n",
       "<path d=\"M45,0h1v1h-1z\" fill=\"#D9EF8B\" fill-opacity=\"1\" />\n",
       "<path d=\"M47,.46V1h-1V.54z\" fill=\"#D9EF8B\" />\n",
       "<path d=\"M46,0h1v1h-1z\" fill=\"#D9EF8B\" fill-opacity=\"1\" />\n",
       "<path d=\"M48,.46V1h-1V.54z\" fill=\"#D9EF8B\" />\n",
       "<path d=\"M47,0h1v1h-1z\" fill=\"#D9EF8B\" fill-opacity=\"1\" />\n",
       "<path d=\"M49,.46V1h-1V.54z\" fill=\"#D9EF8B\" />\n",
       "<path d=\"M48,0h1v1h-1z\" fill=\"#D9EF8B\" fill-opacity=\"1\" />\n",
       "<path d=\"M50,.46V1h-1V.54z\" fill=\"#D9EF8B\" />\n",
       "<path d=\"M49,0h1v1h-1z\" fill=\"#D9EF8B\" fill-opacity=\"1\" />\n",
       "<path d=\"M51,.46V1h-1V.54z\" fill=\"#FEE08B\" />\n",
       "<path d=\"M50,0h1v1h-1z\" fill=\"#FEE08B\" fill-opacity=\"1\" />\n",
       "<path d=\"M52,.46V1h-1V.54z\" fill=\"#FEE08B\" />\n",
       "<path d=\"M51,0h1v1h-1z\" fill=\"#FEE08B\" fill-opacity=\"1\" />\n",
       "<path d=\"M53,.46V1h-1V.54z\" fill=\"#FEE08B\" />\n",
       "<path d=\"M52,0h1v1h-1z\" fill=\"#FEE08B\" fill-opacity=\"1\" />\n",
       "<path d=\"M54,.46V1h-1V.54z\" fill=\"#FEE08B\" />\n",
       "<path d=\"M53,0h1v1h-1z\" fill=\"#FEE08B\" fill-opacity=\"1\" />\n",
       "<path d=\"M55,.46V1h-1V.54z\" fill=\"#FEE08B\" />\n",
       "<path d=\"M54,0h1v1h-1z\" fill=\"#FEE08B\" fill-opacity=\"1\" />\n",
       "<path d=\"M56,.46V1h-1V.54z\" fill=\"#FEE08B\" />\n",
       "<path d=\"M55,0h1v1h-1z\" fill=\"#FEE08B\" fill-opacity=\"1\" />\n",
       "<path d=\"M57,.46V1h-1V.54z\" fill=\"#FEE08B\" />\n",
       "<path d=\"M56,0h1v1h-1z\" fill=\"#FEE08B\" fill-opacity=\"1\" />\n",
       "<path d=\"M58,.46V1h-1V.54z\" fill=\"#FEE08B\" />\n",
       "<path d=\"M57,0h1v1h-1z\" fill=\"#FEE08B\" fill-opacity=\"1\" />\n",
       "<path d=\"M59,.46V1h-1V.54z\" fill=\"#FEE08B\" />\n",
       "<path d=\"M58,0h1v1h-1z\" fill=\"#FEE08B\" fill-opacity=\"1\" />\n",
       "<path d=\"M60,.46V1h-1V.54z\" fill=\"#FEE08B\" />\n",
       "<path d=\"M59,0h1v1h-1z\" fill=\"#FEE08B\" fill-opacity=\"1\" />\n",
       "<path d=\"M61,.46V1h-1V.54z\" fill=\"#FDAE61\" />\n",
       "<path d=\"M60,0h1v1h-1z\" fill=\"#FDAE61\" fill-opacity=\"1\" />\n",
       "<path d=\"M62,.46V1h-1V.54z\" fill=\"#FDAE61\" />\n",
       "<path d=\"M61,0h1v1h-1z\" fill=\"#FDAE61\" fill-opacity=\"1\" />\n",
       "<path d=\"M63,.46V1h-1V.54z\" fill=\"#FDAE61\" />\n",
       "<path d=\"M62,0h1v1h-1z\" fill=\"#FDAE61\" fill-opacity=\"1\" />\n",
       "<path d=\"M64,.46V1h-1V.54z\" fill=\"#FDAE61\" />\n",
       "<path d=\"M63,0h1v1h-1z\" fill=\"#FDAE61\" fill-opacity=\"1\" />\n",
       "<path d=\"M65,.46V1h-1V.54z\" fill=\"#FDAE61\" />\n",
       "<path d=\"M64,0h1v1h-1z\" fill=\"#FDAE61\" fill-opacity=\"1\" />\n",
       "<path d=\"M66,.46V1h-1V.54z\" fill=\"#FDAE61\" />\n",
       "<path d=\"M65,0h1v1h-1z\" fill=\"#FDAE61\" fill-opacity=\"1\" />\n",
       "<path d=\"M67,.46V1h-1V.54z\" fill=\"#FDAE61\" />\n",
       "<path d=\"M66,0h1v1h-1z\" fill=\"#FDAE61\" fill-opacity=\"1\" />\n",
       "<path d=\"M68,.46V1h-1V.54z\" fill=\"#FDAE61\" />\n",
       "<path d=\"M67,0h1v1h-1z\" fill=\"#FDAE61\" fill-opacity=\"1\" />\n",
       "<path d=\"M69,.46V1h-1V.54z\" fill=\"#FDAE61\" />\n",
       "<path d=\"M68,0h1v1h-1z\" fill=\"#FDAE61\" fill-opacity=\"1\" />\n",
       "<path d=\"M70,.46V1h-1V.54z\" fill=\"#FDAE61\" />\n",
       "<path d=\"M69,0h1v1h-1z\" fill=\"#FDAE61\" fill-opacity=\"1\" />\n",
       "<path d=\"M71,.46V1h-1V.54z\" fill=\"#F46D43\" />\n",
       "<path d=\"M70,0h1v1h-1z\" fill=\"#F46D43\" fill-opacity=\"1\" />\n",
       "<path d=\"M72,.46V1h-1V.54z\" fill=\"#F46D43\" />\n",
       "<path d=\"M71,0h1v1h-1z\" fill=\"#F46D43\" fill-opacity=\"1\" />\n",
       "<path d=\"M73,.46V1h-1V.54z\" fill=\"#F46D43\" />\n",
       "<path d=\"M72,0h1v1h-1z\" fill=\"#F46D43\" fill-opacity=\"1\" />\n",
       "<path d=\"M74,.46V1h-1V.54z\" fill=\"#F46D43\" />\n",
       "<path d=\"M73,0h1v1h-1z\" fill=\"#F46D43\" fill-opacity=\"1\" />\n",
       "<path d=\"M75,.46V1h-1V.54z\" fill=\"#F46D43\" />\n",
       "<path d=\"M74,0h1v1h-1z\" fill=\"#F46D43\" fill-opacity=\"1\" />\n",
       "<path d=\"M76,.46V1h-1V.54z\" fill=\"#F46D43\" />\n",
       "<path d=\"M75,0h1v1h-1z\" fill=\"#F46D43\" fill-opacity=\"1\" />\n",
       "<path d=\"M77,.46V1h-1V.54z\" fill=\"#F46D43\" />\n",
       "<path d=\"M76,0h1v1h-1z\" fill=\"#F46D43\" fill-opacity=\"1\" />\n",
       "<path d=\"M78,.46V1h-1V.54z\" fill=\"#F46D43\" />\n",
       "<path d=\"M77,0h1v1h-1z\" fill=\"#F46D43\" fill-opacity=\"1\" />\n",
       "<path d=\"M79,.46V1h-1V.54z\" fill=\"#F46D43\" />\n",
       "<path d=\"M78,0h1v1h-1z\" fill=\"#F46D43\" fill-opacity=\"1\" />\n",
       "<path d=\"M80,.46V1h-1V.54z\" fill=\"#F46D43\" />\n",
       "<path d=\"M79,0h1v1h-1z\" fill=\"#F46D43\" fill-opacity=\"1\" />\n",
       "<path d=\"M81,.46V1h-1V.54z\" fill=\"#D73027\" />\n",
       "<path d=\"M80,0h1v1h-1z\" fill=\"#D73027\" fill-opacity=\"1\" />\n",
       "<path d=\"M82,.46V1h-1V.54z\" fill=\"#D73027\" />\n",
       "<path d=\"M81,0h1v1h-1z\" fill=\"#D73027\" fill-opacity=\"1\" />\n",
       "<path d=\"M83,.46V1h-1V.54z\" fill=\"#D73027\" />\n",
       "<path d=\"M82,0h1v1h-1z\" fill=\"#D73027\" fill-opacity=\"1\" />\n",
       "<path d=\"M84,.46V1h-1V.54z\" fill=\"#D73027\" />\n",
       "<path d=\"M83,0h1v1h-1z\" fill=\"#D73027\" fill-opacity=\"1\" />\n",
       "<path d=\"M85,.46V1h-1V.54z\" fill=\"#D73027\" />\n",
       "<path d=\"M84,0h1v1h-1z\" fill=\"#D73027\" fill-opacity=\"1\" />\n",
       "<path d=\"M86,.46V1h-1V.54z\" fill=\"#D73027\" />\n",
       "<path d=\"M85,0h1v1h-1z\" fill=\"#D73027\" fill-opacity=\"1\" />\n",
       "<path d=\"M87,.46V1h-1V.54z\" fill=\"#D73027\" />\n",
       "<path d=\"M86,0h1v1h-1z\" fill=\"#D73027\" fill-opacity=\"1\" />\n",
       "<path d=\"M88,.46V1h-1V.54z\" fill=\"#D73027\" />\n",
       "<path d=\"M87,0h1v1h-1z\" fill=\"#D73027\" fill-opacity=\"1\" />\n",
       "<path d=\"M89,.46V1h-1V.54z\" fill=\"#D73027\" />\n",
       "<path d=\"M88,0h1v1h-1z\" fill=\"#D73027\" fill-opacity=\"1\" />\n",
       "<path d=\"M90,.46V1h-1V.54z\" fill=\"#D73027\" />\n",
       "<path d=\"M89,0h1v1h-1z\" fill=\"#D73027\" fill-opacity=\"1\" />\n",
       "<path d=\"M91,.46V1h-1V.54z\" fill=\"#A50026\" />\n",
       "<path d=\"M90,0h1v1h-1z\" fill=\"#A50026\" fill-opacity=\"1\" />\n",
       "<path d=\"M92,.46V1h-1V.54z\" fill=\"#A50026\" />\n",
       "<path d=\"M91,0h1v1h-1z\" fill=\"#A50026\" fill-opacity=\"1\" />\n",
       "<path d=\"M93,.46V1h-1V.54z\" fill=\"#A50026\" />\n",
       "<path d=\"M92,0h1v1h-1z\" fill=\"#A50026\" fill-opacity=\"1\" />\n",
       "<path d=\"M94,.46V1h-1V.54z\" fill=\"#A50026\" />\n",
       "<path d=\"M93,0h1v1h-1z\" fill=\"#A50026\" fill-opacity=\"1\" />\n",
       "<path d=\"M95,.46V1h-1V.54z\" fill=\"#A50026\" />\n",
       "<path d=\"M94,0h1v1h-1z\" fill=\"#A50026\" fill-opacity=\"1\" />\n",
       "<path d=\"M96,.46V1h-1V.54z\" fill=\"#A50026\" />\n",
       "<path d=\"M95,0h1v1h-1z\" fill=\"#A50026\" fill-opacity=\"1\" />\n",
       "<path d=\"M97,.46V1h-1V.54z\" fill=\"#A50026\" />\n",
       "<path d=\"M96,0h1v1h-1z\" fill=\"#A50026\" fill-opacity=\"1\" />\n",
       "<path d=\"M98,.46V1h-1V.54z\" fill=\"#A50026\" />\n",
       "<path d=\"M97,0h1v1h-1z\" fill=\"#A50026\" fill-opacity=\"1\" />\n",
       "<path d=\"M99,.46V1h-1V.54z\" fill=\"#A50026\" />\n",
       "<path d=\"M98,0h1v1h-1z\" fill=\"#A50026\" fill-opacity=\"1\" />\n",
       "<path d=\"M100,.46V1h-1V.54z\" fill=\"#A50026\" />\n",
       "<path d=\"M99,0h1v1h-1z\" fill=\"#A50026\" fill-opacity=\"1\" />\n",
       "</svg>"
      ],
      "text/plain": [
       "PlotUtils.CategoricalColorGradient(ColorScheme{Vector{RGBA{Float64}}, String, String}(RGBA{Float64}[RGBA(0.0, 0.408, 0.216, 1.0), RGBA(0.102, 0.596, 0.314, 1.0), RGBA(0.4, 0.741, 0.388, 1.0), RGBA(0.651, 0.851, 0.416, 1.0), RGBA(0.851, 0.937, 0.545, 1.0), RGBA(0.996, 0.878, 0.545, 1.0), RGBA(0.992, 0.682, 0.38, 1.0), RGBA(0.957, 0.427, 0.263, 1.0), RGBA(0.843, 0.188, 0.153, 1.0), RGBA(0.647, 0.0, 0.149, 1.0)], \"\", \"\"), [0.0, 0.1, 0.2, 0.3, 0.4, 0.5, 0.6, 0.7, 0.8, 0.9, 1.0])"
      ]
     },
     "execution_count": 47,
     "metadata": {},
     "output_type": "execute_result"
    }
   ],
   "source": [
    "varname = \"Water_body_dissolved_oxygen_concentration\"\n",
    "varname = \"Water_body_phosphate\"\n",
    "varname_ = replace(varname, \"_\" => \" \")\n",
    "depth2plot = 25\n",
    "month2plot = 5\n",
    "cmap = cgrad(:RdYlBu, rev = true)\n",
    "cmaperror = cgrad(:RdYlGn_10, 10, rev = true, categorical = true)"
   ]
  },
  {
   "cell_type": "markdown",
   "id": "92221204-4906-4f75-a087-5bcfed2feb67",
   "metadata": {},
   "source": [
    "## Files and directories"
   ]
  },
  {
   "cell_type": "code",
   "execution_count": 3,
   "id": "604c4626-946a-4ae4-8cc0-e93fb639cf1d",
   "metadata": {},
   "outputs": [
    {
     "data": {
      "text/plain": [
       "false"
      ]
     },
     "execution_count": 3,
     "metadata": {},
     "output_type": "execute_result"
    }
   ],
   "source": [
    "databasedir = \"/home/ctroupin/data/EMODnet-Chemistry/Eutrophication2024/Results/\"\n",
    "databasedir = \"/home/ctroupin/data/EMODnet/EMODnet-Chemistry/2024/\"\n",
    "datadir = joinpath(databasedir, \"../netCDF\")\n",
    "casename = \"$(varname)-res-0.25-epsilon2-2.0-varlen1-lb5-maxit-5000-reltol-1.0e-9-bathcl-go-exclude-mL-1960-exNS2-monthly\"\n",
    "resultfile = joinpath(databasedir, casename, \"Results/$(varname)_monthly.nc\")\n",
    "isfile(resultfile)# , isdir(datadir)"
   ]
  },
  {
   "cell_type": "markdown",
   "id": "361df010-8ddc-4f2e-bf02-15baf7c7b4a2",
   "metadata": {},
   "source": [
    "## Read fields\n",
    "### DIVAnd"
   ]
  },
  {
   "cell_type": "code",
   "execution_count": 4,
   "id": "20ba9cc3-2d88-4299-8b84-5417f2c4b032",
   "metadata": {},
   "outputs": [
    {
     "ename": "LoadError",
     "evalue": "NetCDF error: \u001b[31mOpening path /home/ctroupin/data/EMODnet/EMODnet-Chemistry/2024/Water_body_phosphate-res-0.25-epsilon2-2.0-varlen1-lb5-maxit-5000-reltol-1.0e-9-bathcl-go-exclude-mL-1960-exNS2-monthly/Results/Water_body_phosphate_monthly.nc: No such file or directory\u001b[39m (NetCDF error code: 2)",
     "output_type": "error",
     "traceback": [
      "NetCDF error: \u001b[31mOpening path /home/ctroupin/data/EMODnet/EMODnet-Chemistry/2024/Water_body_phosphate-res-0.25-epsilon2-2.0-varlen1-lb5-maxit-5000-reltol-1.0e-9-bathcl-go-exclude-mL-1960-exNS2-monthly/Results/Water_body_phosphate_monthly.nc: No such file or directory\u001b[39m (NetCDF error code: 2)",
      "",
      "Stacktrace:",
      " [1] \u001b[0m\u001b[1mnc_open\u001b[22m\u001b[0m\u001b[1m(\u001b[22m\u001b[90mpath\u001b[39m::\u001b[0mString, \u001b[90mmode\u001b[39m::\u001b[0mUInt16\u001b[0m\u001b[1m)\u001b[22m",
      "\u001b[90m   @\u001b[39m \u001b[35mNCDatasets\u001b[39m \u001b[90m~/.julia/packages/NCDatasets/xJGTj/src/\u001b[39m\u001b[90m\u001b[4mnetcdf_c.jl:276\u001b[24m\u001b[39m",
      " [2] \u001b[0m\u001b[1mNCDataset\u001b[22m\u001b[0m\u001b[1m(\u001b[22m\u001b[90mfilename\u001b[39m::\u001b[0mString, \u001b[90mmode\u001b[39m::\u001b[0mString; \u001b[90mformat\u001b[39m::\u001b[0mSymbol, \u001b[90mshare\u001b[39m::\u001b[0mBool, \u001b[90mdiskless\u001b[39m::\u001b[0mBool, \u001b[90mpersist\u001b[39m::\u001b[0mBool, \u001b[90mmemory\u001b[39m::\u001b[0mNothing, \u001b[90mmaskingvalue\u001b[39m::\u001b[0mMissing, \u001b[90mattrib\u001b[39m::\u001b[0mVector\u001b[90m{Any}\u001b[39m\u001b[0m\u001b[1m)\u001b[22m",
      "\u001b[90m   @\u001b[39m \u001b[35mNCDatasets\u001b[39m \u001b[90m~/.julia/packages/NCDatasets/xJGTj/src/\u001b[39m\u001b[90m\u001b[4mdataset.jl:212\u001b[24m\u001b[39m",
      " [3] \u001b[0m\u001b[1mNCDataset\u001b[22m\u001b[90m (repeats 2 times)\u001b[39m",
      "\u001b[90m   @\u001b[39m \u001b[90m~/.julia/packages/NCDatasets/xJGTj/src/\u001b[39m\u001b[90m\u001b[4mdataset.jl:171\u001b[24m\u001b[39m\u001b[90m [inlined]\u001b[39m",
      " [4] \u001b[0m\u001b[1mNCDataset\u001b[22m\u001b[0m\u001b[1m(\u001b[22m\u001b[90mf\u001b[39m::\u001b[0mvar\"#3#4\"\u001b[90m{String, Int64, Int64}\u001b[39m, \u001b[90margs\u001b[39m::\u001b[0mString; \u001b[90mkwargs\u001b[39m::\u001b[0m@Kwargs\u001b[90m{}\u001b[39m\u001b[0m\u001b[1m)\u001b[22m",
      "\u001b[90m   @\u001b[39m \u001b[35mNCDatasets\u001b[39m \u001b[90m~/.julia/packages/NCDatasets/xJGTj/src/\u001b[39m\u001b[90m\u001b[4mdataset.jl:250\u001b[24m\u001b[39m",
      " [5] \u001b[0m\u001b[1mNCDataset\u001b[22m",
      "\u001b[90m   @\u001b[39m \u001b[90m~/.julia/packages/NCDatasets/xJGTj/src/\u001b[39m\u001b[90m\u001b[4mdataset.jl:249\u001b[24m\u001b[39m\u001b[90m [inlined]\u001b[39m",
      " [6] \u001b[0m\u001b[1mread_results\u001b[22m\u001b[0m\u001b[1m(\u001b[22m\u001b[90mresultfile\u001b[39m::\u001b[0mString, \u001b[90mvarname\u001b[39m::\u001b[0mString, \u001b[90mdepth2plot\u001b[39m::\u001b[0mInt64, \u001b[90mmonth2plot\u001b[39m::\u001b[0mInt64\u001b[0m\u001b[1m)\u001b[22m",
      "\u001b[90m   @\u001b[39m \u001b[36mMain\u001b[39m \u001b[90m~/Projects/EMODnet-Chemistry-GriddedMaps/src/\u001b[39m\u001b[90m\u001b[4mconfig.jl:367\u001b[24m\u001b[39m",
      " [7] top-level scope",
      "\u001b[90m   @\u001b[39m \u001b[90m\u001b[4mIn[4]:1\u001b[24m\u001b[39m"
     ]
    }
   ],
   "source": [
    "lon, lat, depth, dates, field, error =\n",
    "    read_results(resultfile, varname, depth2plot, month2plot);"
   ]
  },
  {
   "cell_type": "markdown",
   "id": "08d4fb9c-a00f-4ce0-8229-c597e339e365",
   "metadata": {},
   "source": [
    "### WOA fields"
   ]
  },
  {
   "cell_type": "code",
   "execution_count": null,
   "id": "c7f657b3-6d4a-40c5-a511-bc9f63209ede",
   "metadata": {},
   "outputs": [],
   "source": [
    "if varname == \"Water_body_dissolved_oxygen_concentration\"\n",
    "    woavarname = \"o\"\n",
    "elseif varname == \"Water_body_phosphate\"\n",
    "    woavarname = \"p\"\n",
    "end"
   ]
  },
  {
   "cell_type": "code",
   "execution_count": null,
   "id": "44681094-9559-4c50-aafb-4d67149b9a7c",
   "metadata": {},
   "outputs": [],
   "source": [
    "woafile = joinpath(woadir, \"woa23_all_$(woavarname)$(lpad(month2plot, 2, '0'))_01.nc\")\n",
    "@info(\"Getting data from $(woafile)\")\n",
    "if isfile(woafile)\n",
    "    lonwoa, latwoa, depthwoa, dateswoa, fieldwoa, errorwoa =\n",
    "        read_woa(woafile, varname, depth2plot, lonr, latr)\n",
    "else\n",
    "    @warn(\"$(woafile) does not exist\")\n",
    "end"
   ]
  },
  {
   "cell_type": "markdown",
   "id": "3713b26b-d563-4416-8fdc-575de8d03a78",
   "metadata": {},
   "source": [
    "## Make the plots\n",
    "### DIVAnd"
   ]
  },
  {
   "cell_type": "code",
   "execution_count": null,
   "id": "633697ae-88c3-4448-b51e-6216732916c5",
   "metadata": {},
   "outputs": [],
   "source": [
    "f1, ga1, hm1 = plot_field_var(\n",
    "    varname,\n",
    "    lon,\n",
    "    lat,\n",
    "    field,\n",
    "    depth2plot,\n",
    "    month2plot,\n",
    "    \"DIVAnd\",\n",
    "    cmap,\n",
    "    vmin = 225.0,\n",
    "    vmax = 375.0,\n",
    ")\n",
    "save(joinpath(figdir, \"$(varname)_depth-$(depth2plot)_month-$(month2plot)_DIVAnd.png\"), f1)"
   ]
  },
  {
   "cell_type": "markdown",
   "id": "5175bd7d-3154-4f27-805e-6fd1b5640157",
   "metadata": {},
   "source": [
    "### WOA"
   ]
  },
  {
   "cell_type": "code",
   "execution_count": null,
   "id": "4493aee6-2a4e-4abf-b746-614241f4229f",
   "metadata": {},
   "outputs": [],
   "source": [
    "f2, ga2, hm2 = plot_field_var(\n",
    "    varname,\n",
    "    lonwoa,\n",
    "    latwoa,\n",
    "    fieldwoa,\n",
    "    depth2plot,\n",
    "    month2plot,\n",
    "    \"WOA\",\n",
    "    cmap,\n",
    "    vmin = 225.0,\n",
    "    vmax = 375.0,\n",
    ")\n",
    "save(joinpath(figdir, \"$(varname)_depth-$(depth2plot)_month-$(month2plot)_WOA.png\"), f2)"
   ]
  },
  {
   "cell_type": "markdown",
   "id": "93e2096c-eca7-47c9-983c-cae32ad8e7f2",
   "metadata": {},
   "source": [
    "## Error fields\n",
    "### DIVAnd"
   ]
  },
  {
   "cell_type": "code",
   "execution_count": null,
   "id": "f5900f02-7a7d-45f7-a1d4-d0ccc6ce8e3e",
   "metadata": {},
   "outputs": [],
   "source": [
    "include(\"./config.jl\")\n",
    "f1, ga1, hm1 = plot_error_field(varname, lon, lat, error, depth2plot, month2plot, \"DIVAnd\")\n",
    "display(f1)"
   ]
  },
  {
   "cell_type": "code",
   "execution_count": null,
   "id": "c0f31506-eb5e-41f2-9e8a-b11e99d6f6f6",
   "metadata": {},
   "outputs": [],
   "source": [
    "f2, ga2, hm2 =\n",
    "    plot_error_field(varname, lonwoa, latwoa, errorwoa * 100, depth2plot, month2plot, \"WOA\")\n",
    "display(f2)"
   ]
  },
  {
   "cell_type": "markdown",
   "id": "11e51968-b3b9-4f93-b7a0-da6c11f6e22f",
   "metadata": {},
   "source": [
    "## Plot all the annex fields\n",
    "### Read measurements"
   ]
  },
  {
   "cell_type": "code",
   "execution_count": 5,
   "id": "8ef0ba40-8e31-490a-8df8-14247bedfe9a",
   "metadata": {},
   "outputs": [
    {
     "data": {
      "text/plain": [
       "true"
      ]
     },
     "execution_count": 5,
     "metadata": {},
     "output_type": "execute_result"
    }
   ],
   "source": [
    "resultfile = \"/home/ctroupin/data/EMODnet/EMODnet-Chemistry/2024/Results/Water_body_phosphate.nc\"\n",
    "isfile(resultfile)"
   ]
  },
  {
   "cell_type": "code",
   "execution_count": 6,
   "id": "008d8111-058b-4494-9de8-427ee38e5d4d",
   "metadata": {},
   "outputs": [
    {
     "data": {
      "text/plain": [
       "read_annex_fields (generic function with 1 method)"
      ]
     },
     "execution_count": 6,
     "metadata": {},
     "output_type": "execute_result"
    }
   ],
   "source": [
    "function read_annex_fields(resultfile::String)\n",
    "\n",
    "    NCDataset(resultfile, \"r\") do ds\n",
    "        # print(ds)\n",
    "        lon = ds[\"lon\"][:]\n",
    "        lat = ds[\"lat\"][:]\n",
    "        depth = ds[\"depth\"][:]\n",
    "        dates = ds[\"time\"][:]\n",
    "\n",
    "        # Subsetting\n",
    "        depthindex = findfirst(depth .== depth2plot)\n",
    "        timeindex = findfirst(Dates.month.(dates) .== month2plot)\n",
    "        # Read gridded field and error\n",
    "        field = coalesce.(ds[varname][:, :, depthindex, timeindex], NaN)\n",
    "        fielderror = coalesce.(ds[varname*\"_relerr\"][:, :, depthindex, timeindex], NaN)\n",
    "        fieldL1 = coalesce.(ds[varname*\"_L1\"][:, :, depthindex, timeindex], NaN)\n",
    "        fieldL2 = coalesce.(ds[varname*\"_L2\"][:, :, depthindex, timeindex], NaN)\n",
    "        fielddeepest = coalesce.(ds[varname*\"_deepest\"][:, :, timeindex], NaN)\n",
    "\n",
    "        return lon::Vector{Float64},\n",
    "        lat::Vector{Float64},\n",
    "        depth::Vector{Float64},\n",
    "        dates::Vector{DateTime},\n",
    "        field::Matrix{AbstractFloat},\n",
    "        fielderror::Matrix{AbstractFloat},\n",
    "        fieldL1::Matrix{AbstractFloat},\n",
    "        fieldL2::Matrix{AbstractFloat},\n",
    "        fielddeepest::Matrix{AbstractFloat}\n",
    "    end\n",
    "end"
   ]
  },
  {
   "cell_type": "code",
   "execution_count": 7,
   "id": "a6e26efc-7a81-4130-80b6-a7be8ef07562",
   "metadata": {},
   "outputs": [],
   "source": [
    "lon, lat, depth, dates, field, fielderror, fieldL1, fieldL2, fielddeepest =\n",
    "    read_annex_fields(resultfile);"
   ]
  },
  {
   "cell_type": "markdown",
   "id": "0066bee3",
   "metadata": {},
   "source": [
    "### Plot all the fields together"
   ]
  },
  {
   "cell_type": "code",
   "execution_count": null,
   "id": "aa22d367-60a3-4a2a-8867-b2ad35ea783c",
   "metadata": {},
   "outputs": [],
   "source": [
    "include(\"./config.jl\")\n",
    "f3 = plot_additional_field(\n",
    "    varname,\n",
    "    varunits[varname],\n",
    "    lon,\n",
    "    lat,\n",
    "    fielddeepest,\n",
    "    fieldL1,\n",
    "    fieldL2,\n",
    "    fielderror,\n",
    "    depth2plot,\n",
    "    month2plot,\n",
    ")\n",
    "save(\n",
    "    joinpath(\n",
    "        figdir,\n",
    "        \"$(varname)_depth-$(depth2plot)_month-$(month2plot)_additional_fields.png\",\n",
    "    ),\n",
    "    f3,\n",
    ")"
   ]
  },
  {
   "cell_type": "markdown",
   "id": "c702f857",
   "metadata": {},
   "source": [
    "### Plot all the fields one-by-one"
   ]
  },
  {
   "cell_type": "code",
   "execution_count": 60,
   "id": "127d3de0",
   "metadata": {},
   "outputs": [
    {
     "data": {
      "text/plain": [
       "plot_field_var_fast (generic function with 3 methods)"
      ]
     },
     "execution_count": 60,
     "metadata": {},
     "output_type": "execute_result"
    }
   ],
   "source": [
    "include(\"./config.jl\")"
   ]
  },
  {
   "cell_type": "code",
   "execution_count": 51,
   "id": "a17f330a-1d61-4178-984e-60bc95137486",
   "metadata": {},
   "outputs": [],
   "source": [
    "f1, ga1, hm1 = plot_field_var(\n",
    "    varname,\n",
    "    lon,\n",
    "    lat,\n",
    "    field,\n",
    "    depth2plot,\n",
    "    month2plot,\n",
    "    \"DIVAnd\",\n",
    "    cmap,\n",
    "    vmin = first(varrange[varname]),\n",
    "    vmax = last(varrange[varname]) / 5.0,\n",
    ")\n",
    "save(\n",
    "    joinpath(figdir, \"$(varname)_depth-$(depth2plot)_month-$(month2plot)_DIVAnd_field.png\"),\n",
    "    f1,\n",
    ")"
   ]
  },
  {
   "cell_type": "code",
   "execution_count": null,
   "id": "fbef7cf7",
   "metadata": {},
   "outputs": [],
   "source": [
    "f1, ga1, hm1 = plot_field_var(\n",
    "    varname,\n",
    "    lon,\n",
    "    lat,\n",
    "    fieldL1,\n",
    "    depth2plot,\n",
    "    month2plot,\n",
    "    \"DIVAnd\",\n",
    "    cmap,\n",
    "    vmin = first(varrange[varname]),\n",
    "    vmax = last(varrange[varname]) / 5.0,\n",
    ")\n",
    "save(\n",
    "    joinpath(\n",
    "        figdir,\n",
    "        \"$(varname)_depth-$(depth2plot)_month-$(month2plot)_DIVAnd_fieldL1.png\",\n",
    "    ),\n",
    "    f1,\n",
    ")"
   ]
  },
  {
   "cell_type": "code",
   "execution_count": 53,
   "id": "55af739a",
   "metadata": {},
   "outputs": [],
   "source": [
    "f1, ga1, hm1 = plot_field_var(\n",
    "    varname,\n",
    "    lon,\n",
    "    lat,\n",
    "    fieldL2,\n",
    "    depth2plot,\n",
    "    month2plot,\n",
    "    \"DIVAnd\",\n",
    "    cmap,\n",
    "    vmin = first(varrange[varname]),\n",
    "    vmax = last(varrange[varname]) / 5.0,\n",
    ")\n",
    "save(\n",
    "    joinpath(\n",
    "        figdir,\n",
    "        \"$(varname)_depth-$(depth2plot)_month-$(month2plot)_DIVAnd_fieldL2.png\",\n",
    "    ),\n",
    "    f1,\n",
    ")"
   ]
  },
  {
   "cell_type": "code",
   "execution_count": 61,
   "id": "9316cbdd",
   "metadata": {},
   "outputs": [],
   "source": [
    "f1, ga1, hm1 = plot_field_var_deepest(\n",
    "    varname,\n",
    "    lon,\n",
    "    lat,\n",
    "    fielddeepest,\n",
    "    month2plot,\n",
    "    \"DIVAnd\",\n",
    "    cmap,\n",
    "    vmin = first(varrange[varname]),\n",
    "    vmax = last(varrange[varname]),\n",
    ")\n",
    "save(\n",
    "    joinpath(\n",
    "        figdir,\n",
    "        \"$(varname)_depth-$(depth2plot)_month-$(month2plot)_DIVAnd_fielddeepest.png\",\n",
    "    ),\n",
    "    f1,\n",
    ")"
   ]
  },
  {
   "cell_type": "code",
   "execution_count": 58,
   "id": "97e2608e",
   "metadata": {},
   "outputs": [],
   "source": [
    "f1, ga1, hm1 =\n",
    "    plot_error_field(varname, lon, lat, fielderror, depth2plot, month2plot, \"DIVAnd\")\n",
    "save(\n",
    "    joinpath(\n",
    "        figdir,\n",
    "        \"$(varname)_depth-$(depth2plot)_month-$(month2plot)_DIVAnd_fielderror.png\",\n",
    "    ),\n",
    "    f1,\n",
    ")"
   ]
  },
  {
   "cell_type": "code",
   "execution_count": null,
   "id": "214b683c",
   "metadata": {},
   "outputs": [],
   "source": []
  },
  {
   "cell_type": "code",
   "execution_count": null,
   "id": "52284942",
   "metadata": {},
   "outputs": [],
   "source": []
  }
 ],
 "metadata": {
  "kernelspec": {
   "display_name": "Julia 1.11.7",
   "language": "julia",
   "name": "julia-1.11"
  },
  "language_info": {
   "file_extension": ".jl",
   "mimetype": "application/julia",
   "name": "julia",
   "version": "1.11.7"
  },
  "toc": {
   "base_numbering": 1,
   "nav_menu": {},
   "number_sections": true,
   "sideBar": true,
   "skip_h1_title": false,
   "title_cell": "Table of Contents",
   "title_sidebar": "Contents",
   "toc_cell": false,
   "toc_position": {},
   "toc_section_display": true,
   "toc_window_display": false
  }
 },
 "nbformat": 4,
 "nbformat_minor": 5
}
